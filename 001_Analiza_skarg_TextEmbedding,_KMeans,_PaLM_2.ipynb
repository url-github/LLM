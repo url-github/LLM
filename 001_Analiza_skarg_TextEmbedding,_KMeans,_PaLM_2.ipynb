{
  "nbformat": 4,
  "nbformat_minor": 0,
  "metadata": {
    "colab": {
      "cell_execution_strategy": "setup",
      "provenance": [],
      "toc_visible": true
    },
    "kernelspec": {
      "name": "python3",
      "display_name": "Python 3"
    },
    "language_info": {
      "name": "python"
    },
    "widgets": {
      "application/vnd.jupyter.widget-state+json": {
        "08c94c1e1ae641e79ebf1df26a415057": {
          "model_module": "@jupyter-widgets/controls",
          "model_name": "HBoxModel",
          "model_module_version": "1.5.0",
          "state": {
            "_dom_classes": [],
            "_model_module": "@jupyter-widgets/controls",
            "_model_module_version": "1.5.0",
            "_model_name": "HBoxModel",
            "_view_count": null,
            "_view_module": "@jupyter-widgets/controls",
            "_view_module_version": "1.5.0",
            "_view_name": "HBoxView",
            "box_style": "",
            "children": [
              "IPY_MODEL_bc56ec1536224325a6ff5ade66915c8b",
              "IPY_MODEL_0fe7e975735f46249237b023ba800ec1",
              "IPY_MODEL_58c703f4dbf6412e92db704b5ea8b133"
            ],
            "layout": "IPY_MODEL_c6419315879d45c2bb0a8b50b9e04d02"
          }
        },
        "bc56ec1536224325a6ff5ade66915c8b": {
          "model_module": "@jupyter-widgets/controls",
          "model_name": "HTMLModel",
          "model_module_version": "1.5.0",
          "state": {
            "_dom_classes": [],
            "_model_module": "@jupyter-widgets/controls",
            "_model_module_version": "1.5.0",
            "_model_name": "HTMLModel",
            "_view_count": null,
            "_view_module": "@jupyter-widgets/controls",
            "_view_module_version": "1.5.0",
            "_view_name": "HTMLView",
            "description": "",
            "description_tooltip": null,
            "layout": "IPY_MODEL_02f0561eb4bd4003b7cebbcc4248c788",
            "placeholder": "​",
            "style": "IPY_MODEL_4854c17a9a7a41a2b18c4dd9289f8e50",
            "value": "Job ID fda411a7-53fa-4d37-acb0-2c97498ec491 successfully executed: 100%"
          }
        },
        "0fe7e975735f46249237b023ba800ec1": {
          "model_module": "@jupyter-widgets/controls",
          "model_name": "FloatProgressModel",
          "model_module_version": "1.5.0",
          "state": {
            "_dom_classes": [],
            "_model_module": "@jupyter-widgets/controls",
            "_model_module_version": "1.5.0",
            "_model_name": "FloatProgressModel",
            "_view_count": null,
            "_view_module": "@jupyter-widgets/controls",
            "_view_module_version": "1.5.0",
            "_view_name": "ProgressView",
            "bar_style": "success",
            "description": "",
            "description_tooltip": null,
            "layout": "IPY_MODEL_c60b05e7cf144e598542d02194c261cc",
            "max": 1,
            "min": 0,
            "orientation": "horizontal",
            "style": "IPY_MODEL_ab5e58102a414e4a928066234cc3f3aa",
            "value": 1
          }
        },
        "58c703f4dbf6412e92db704b5ea8b133": {
          "model_module": "@jupyter-widgets/controls",
          "model_name": "HTMLModel",
          "model_module_version": "1.5.0",
          "state": {
            "_dom_classes": [],
            "_model_module": "@jupyter-widgets/controls",
            "_model_module_version": "1.5.0",
            "_model_name": "HTMLModel",
            "_view_count": null,
            "_view_module": "@jupyter-widgets/controls",
            "_view_module_version": "1.5.0",
            "_view_name": "HTMLView",
            "description": "",
            "description_tooltip": null,
            "layout": "IPY_MODEL_608fa8ab48c241608a62924f5a80840f",
            "placeholder": "​",
            "style": "IPY_MODEL_b060eabbdc504e1e84a7db89bea5b2c6",
            "value": ""
          }
        },
        "c6419315879d45c2bb0a8b50b9e04d02": {
          "model_module": "@jupyter-widgets/base",
          "model_name": "LayoutModel",
          "model_module_version": "1.2.0",
          "state": {
            "_model_module": "@jupyter-widgets/base",
            "_model_module_version": "1.2.0",
            "_model_name": "LayoutModel",
            "_view_count": null,
            "_view_module": "@jupyter-widgets/base",
            "_view_module_version": "1.2.0",
            "_view_name": "LayoutView",
            "align_content": null,
            "align_items": null,
            "align_self": null,
            "border": null,
            "bottom": null,
            "display": null,
            "flex": null,
            "flex_flow": null,
            "grid_area": null,
            "grid_auto_columns": null,
            "grid_auto_flow": null,
            "grid_auto_rows": null,
            "grid_column": null,
            "grid_gap": null,
            "grid_row": null,
            "grid_template_areas": null,
            "grid_template_columns": null,
            "grid_template_rows": null,
            "height": null,
            "justify_content": null,
            "justify_items": null,
            "left": null,
            "margin": null,
            "max_height": null,
            "max_width": null,
            "min_height": null,
            "min_width": null,
            "object_fit": null,
            "object_position": null,
            "order": null,
            "overflow": null,
            "overflow_x": null,
            "overflow_y": null,
            "padding": null,
            "right": null,
            "top": null,
            "visibility": null,
            "width": null
          }
        },
        "02f0561eb4bd4003b7cebbcc4248c788": {
          "model_module": "@jupyter-widgets/base",
          "model_name": "LayoutModel",
          "model_module_version": "1.2.0",
          "state": {
            "_model_module": "@jupyter-widgets/base",
            "_model_module_version": "1.2.0",
            "_model_name": "LayoutModel",
            "_view_count": null,
            "_view_module": "@jupyter-widgets/base",
            "_view_module_version": "1.2.0",
            "_view_name": "LayoutView",
            "align_content": null,
            "align_items": null,
            "align_self": null,
            "border": null,
            "bottom": null,
            "display": null,
            "flex": null,
            "flex_flow": null,
            "grid_area": null,
            "grid_auto_columns": null,
            "grid_auto_flow": null,
            "grid_auto_rows": null,
            "grid_column": null,
            "grid_gap": null,
            "grid_row": null,
            "grid_template_areas": null,
            "grid_template_columns": null,
            "grid_template_rows": null,
            "height": null,
            "justify_content": null,
            "justify_items": null,
            "left": null,
            "margin": null,
            "max_height": null,
            "max_width": null,
            "min_height": null,
            "min_width": null,
            "object_fit": null,
            "object_position": null,
            "order": null,
            "overflow": null,
            "overflow_x": null,
            "overflow_y": null,
            "padding": null,
            "right": null,
            "top": null,
            "visibility": null,
            "width": null
          }
        },
        "4854c17a9a7a41a2b18c4dd9289f8e50": {
          "model_module": "@jupyter-widgets/controls",
          "model_name": "DescriptionStyleModel",
          "model_module_version": "1.5.0",
          "state": {
            "_model_module": "@jupyter-widgets/controls",
            "_model_module_version": "1.5.0",
            "_model_name": "DescriptionStyleModel",
            "_view_count": null,
            "_view_module": "@jupyter-widgets/base",
            "_view_module_version": "1.2.0",
            "_view_name": "StyleView",
            "description_width": ""
          }
        },
        "c60b05e7cf144e598542d02194c261cc": {
          "model_module": "@jupyter-widgets/base",
          "model_name": "LayoutModel",
          "model_module_version": "1.2.0",
          "state": {
            "_model_module": "@jupyter-widgets/base",
            "_model_module_version": "1.2.0",
            "_model_name": "LayoutModel",
            "_view_count": null,
            "_view_module": "@jupyter-widgets/base",
            "_view_module_version": "1.2.0",
            "_view_name": "LayoutView",
            "align_content": null,
            "align_items": null,
            "align_self": null,
            "border": null,
            "bottom": null,
            "display": null,
            "flex": null,
            "flex_flow": null,
            "grid_area": null,
            "grid_auto_columns": null,
            "grid_auto_flow": null,
            "grid_auto_rows": null,
            "grid_column": null,
            "grid_gap": null,
            "grid_row": null,
            "grid_template_areas": null,
            "grid_template_columns": null,
            "grid_template_rows": null,
            "height": null,
            "justify_content": null,
            "justify_items": null,
            "left": null,
            "margin": null,
            "max_height": null,
            "max_width": null,
            "min_height": null,
            "min_width": null,
            "object_fit": null,
            "object_position": null,
            "order": null,
            "overflow": null,
            "overflow_x": null,
            "overflow_y": null,
            "padding": null,
            "right": null,
            "top": null,
            "visibility": null,
            "width": null
          }
        },
        "ab5e58102a414e4a928066234cc3f3aa": {
          "model_module": "@jupyter-widgets/controls",
          "model_name": "ProgressStyleModel",
          "model_module_version": "1.5.0",
          "state": {
            "_model_module": "@jupyter-widgets/controls",
            "_model_module_version": "1.5.0",
            "_model_name": "ProgressStyleModel",
            "_view_count": null,
            "_view_module": "@jupyter-widgets/base",
            "_view_module_version": "1.2.0",
            "_view_name": "StyleView",
            "bar_color": null,
            "description_width": ""
          }
        },
        "608fa8ab48c241608a62924f5a80840f": {
          "model_module": "@jupyter-widgets/base",
          "model_name": "LayoutModel",
          "model_module_version": "1.2.0",
          "state": {
            "_model_module": "@jupyter-widgets/base",
            "_model_module_version": "1.2.0",
            "_model_name": "LayoutModel",
            "_view_count": null,
            "_view_module": "@jupyter-widgets/base",
            "_view_module_version": "1.2.0",
            "_view_name": "LayoutView",
            "align_content": null,
            "align_items": null,
            "align_self": null,
            "border": null,
            "bottom": null,
            "display": null,
            "flex": null,
            "flex_flow": null,
            "grid_area": null,
            "grid_auto_columns": null,
            "grid_auto_flow": null,
            "grid_auto_rows": null,
            "grid_column": null,
            "grid_gap": null,
            "grid_row": null,
            "grid_template_areas": null,
            "grid_template_columns": null,
            "grid_template_rows": null,
            "height": null,
            "justify_content": null,
            "justify_items": null,
            "left": null,
            "margin": null,
            "max_height": null,
            "max_width": null,
            "min_height": null,
            "min_width": null,
            "object_fit": null,
            "object_position": null,
            "order": null,
            "overflow": null,
            "overflow_x": null,
            "overflow_y": null,
            "padding": null,
            "right": null,
            "top": null,
            "visibility": null,
            "width": null
          }
        },
        "b060eabbdc504e1e84a7db89bea5b2c6": {
          "model_module": "@jupyter-widgets/controls",
          "model_name": "DescriptionStyleModel",
          "model_module_version": "1.5.0",
          "state": {
            "_model_module": "@jupyter-widgets/controls",
            "_model_module_version": "1.5.0",
            "_model_name": "DescriptionStyleModel",
            "_view_count": null,
            "_view_module": "@jupyter-widgets/base",
            "_view_module_version": "1.2.0",
            "_view_name": "StyleView",
            "description_width": ""
          }
        },
        "b6031d18d26a4101b430c62654b04c70": {
          "model_module": "@jupyter-widgets/controls",
          "model_name": "HBoxModel",
          "model_module_version": "1.5.0",
          "state": {
            "_dom_classes": [],
            "_model_module": "@jupyter-widgets/controls",
            "_model_module_version": "1.5.0",
            "_model_name": "HBoxModel",
            "_view_count": null,
            "_view_module": "@jupyter-widgets/controls",
            "_view_module_version": "1.5.0",
            "_view_name": "HBoxView",
            "box_style": "",
            "children": [
              "IPY_MODEL_6c5130b5227441f6b64966e0e5973e5b",
              "IPY_MODEL_c52ec7be71f14346bd777667c823c39a",
              "IPY_MODEL_408d9d682f3348ecbaef8d6b05973ece"
            ],
            "layout": "IPY_MODEL_7152ab4c03b0458eac29cc4241fc7085"
          }
        },
        "6c5130b5227441f6b64966e0e5973e5b": {
          "model_module": "@jupyter-widgets/controls",
          "model_name": "HTMLModel",
          "model_module_version": "1.5.0",
          "state": {
            "_dom_classes": [],
            "_model_module": "@jupyter-widgets/controls",
            "_model_module_version": "1.5.0",
            "_model_name": "HTMLModel",
            "_view_count": null,
            "_view_module": "@jupyter-widgets/controls",
            "_view_module_version": "1.5.0",
            "_view_name": "HTMLView",
            "description": "",
            "description_tooltip": null,
            "layout": "IPY_MODEL_3a36344504cd400da4126512c1b06b3e",
            "placeholder": "​",
            "style": "IPY_MODEL_05e470717140412ab75b7b4a97466512",
            "value": "Downloading: 100%"
          }
        },
        "c52ec7be71f14346bd777667c823c39a": {
          "model_module": "@jupyter-widgets/controls",
          "model_name": "FloatProgressModel",
          "model_module_version": "1.5.0",
          "state": {
            "_dom_classes": [],
            "_model_module": "@jupyter-widgets/controls",
            "_model_module_version": "1.5.0",
            "_model_name": "FloatProgressModel",
            "_view_count": null,
            "_view_module": "@jupyter-widgets/controls",
            "_view_module_version": "1.5.0",
            "_view_name": "ProgressView",
            "bar_style": "success",
            "description": "",
            "description_tooltip": null,
            "layout": "IPY_MODEL_78ab8f55b71c46aa9d4a72a55aa05286",
            "max": 3,
            "min": 0,
            "orientation": "horizontal",
            "style": "IPY_MODEL_4a270fffaaba48ad9fe2fee0e1a2796c",
            "value": 3
          }
        },
        "408d9d682f3348ecbaef8d6b05973ece": {
          "model_module": "@jupyter-widgets/controls",
          "model_name": "HTMLModel",
          "model_module_version": "1.5.0",
          "state": {
            "_dom_classes": [],
            "_model_module": "@jupyter-widgets/controls",
            "_model_module_version": "1.5.0",
            "_model_name": "HTMLModel",
            "_view_count": null,
            "_view_module": "@jupyter-widgets/controls",
            "_view_module_version": "1.5.0",
            "_view_name": "HTMLView",
            "description": "",
            "description_tooltip": null,
            "layout": "IPY_MODEL_6cea114f536e49c1a13120b495627575",
            "placeholder": "​",
            "style": "IPY_MODEL_4561a49381ea4357bf9a0a3fc6a02c24",
            "value": ""
          }
        },
        "7152ab4c03b0458eac29cc4241fc7085": {
          "model_module": "@jupyter-widgets/base",
          "model_name": "LayoutModel",
          "model_module_version": "1.2.0",
          "state": {
            "_model_module": "@jupyter-widgets/base",
            "_model_module_version": "1.2.0",
            "_model_name": "LayoutModel",
            "_view_count": null,
            "_view_module": "@jupyter-widgets/base",
            "_view_module_version": "1.2.0",
            "_view_name": "LayoutView",
            "align_content": null,
            "align_items": null,
            "align_self": null,
            "border": null,
            "bottom": null,
            "display": null,
            "flex": null,
            "flex_flow": null,
            "grid_area": null,
            "grid_auto_columns": null,
            "grid_auto_flow": null,
            "grid_auto_rows": null,
            "grid_column": null,
            "grid_gap": null,
            "grid_row": null,
            "grid_template_areas": null,
            "grid_template_columns": null,
            "grid_template_rows": null,
            "height": null,
            "justify_content": null,
            "justify_items": null,
            "left": null,
            "margin": null,
            "max_height": null,
            "max_width": null,
            "min_height": null,
            "min_width": null,
            "object_fit": null,
            "object_position": null,
            "order": null,
            "overflow": null,
            "overflow_x": null,
            "overflow_y": null,
            "padding": null,
            "right": null,
            "top": null,
            "visibility": null,
            "width": null
          }
        },
        "3a36344504cd400da4126512c1b06b3e": {
          "model_module": "@jupyter-widgets/base",
          "model_name": "LayoutModel",
          "model_module_version": "1.2.0",
          "state": {
            "_model_module": "@jupyter-widgets/base",
            "_model_module_version": "1.2.0",
            "_model_name": "LayoutModel",
            "_view_count": null,
            "_view_module": "@jupyter-widgets/base",
            "_view_module_version": "1.2.0",
            "_view_name": "LayoutView",
            "align_content": null,
            "align_items": null,
            "align_self": null,
            "border": null,
            "bottom": null,
            "display": null,
            "flex": null,
            "flex_flow": null,
            "grid_area": null,
            "grid_auto_columns": null,
            "grid_auto_flow": null,
            "grid_auto_rows": null,
            "grid_column": null,
            "grid_gap": null,
            "grid_row": null,
            "grid_template_areas": null,
            "grid_template_columns": null,
            "grid_template_rows": null,
            "height": null,
            "justify_content": null,
            "justify_items": null,
            "left": null,
            "margin": null,
            "max_height": null,
            "max_width": null,
            "min_height": null,
            "min_width": null,
            "object_fit": null,
            "object_position": null,
            "order": null,
            "overflow": null,
            "overflow_x": null,
            "overflow_y": null,
            "padding": null,
            "right": null,
            "top": null,
            "visibility": null,
            "width": null
          }
        },
        "05e470717140412ab75b7b4a97466512": {
          "model_module": "@jupyter-widgets/controls",
          "model_name": "DescriptionStyleModel",
          "model_module_version": "1.5.0",
          "state": {
            "_model_module": "@jupyter-widgets/controls",
            "_model_module_version": "1.5.0",
            "_model_name": "DescriptionStyleModel",
            "_view_count": null,
            "_view_module": "@jupyter-widgets/base",
            "_view_module_version": "1.2.0",
            "_view_name": "StyleView",
            "description_width": ""
          }
        },
        "78ab8f55b71c46aa9d4a72a55aa05286": {
          "model_module": "@jupyter-widgets/base",
          "model_name": "LayoutModel",
          "model_module_version": "1.2.0",
          "state": {
            "_model_module": "@jupyter-widgets/base",
            "_model_module_version": "1.2.0",
            "_model_name": "LayoutModel",
            "_view_count": null,
            "_view_module": "@jupyter-widgets/base",
            "_view_module_version": "1.2.0",
            "_view_name": "LayoutView",
            "align_content": null,
            "align_items": null,
            "align_self": null,
            "border": null,
            "bottom": null,
            "display": null,
            "flex": null,
            "flex_flow": null,
            "grid_area": null,
            "grid_auto_columns": null,
            "grid_auto_flow": null,
            "grid_auto_rows": null,
            "grid_column": null,
            "grid_gap": null,
            "grid_row": null,
            "grid_template_areas": null,
            "grid_template_columns": null,
            "grid_template_rows": null,
            "height": null,
            "justify_content": null,
            "justify_items": null,
            "left": null,
            "margin": null,
            "max_height": null,
            "max_width": null,
            "min_height": null,
            "min_width": null,
            "object_fit": null,
            "object_position": null,
            "order": null,
            "overflow": null,
            "overflow_x": null,
            "overflow_y": null,
            "padding": null,
            "right": null,
            "top": null,
            "visibility": null,
            "width": null
          }
        },
        "4a270fffaaba48ad9fe2fee0e1a2796c": {
          "model_module": "@jupyter-widgets/controls",
          "model_name": "ProgressStyleModel",
          "model_module_version": "1.5.0",
          "state": {
            "_model_module": "@jupyter-widgets/controls",
            "_model_module_version": "1.5.0",
            "_model_name": "ProgressStyleModel",
            "_view_count": null,
            "_view_module": "@jupyter-widgets/base",
            "_view_module_version": "1.2.0",
            "_view_name": "StyleView",
            "bar_color": null,
            "description_width": ""
          }
        },
        "6cea114f536e49c1a13120b495627575": {
          "model_module": "@jupyter-widgets/base",
          "model_name": "LayoutModel",
          "model_module_version": "1.2.0",
          "state": {
            "_model_module": "@jupyter-widgets/base",
            "_model_module_version": "1.2.0",
            "_model_name": "LayoutModel",
            "_view_count": null,
            "_view_module": "@jupyter-widgets/base",
            "_view_module_version": "1.2.0",
            "_view_name": "LayoutView",
            "align_content": null,
            "align_items": null,
            "align_self": null,
            "border": null,
            "bottom": null,
            "display": null,
            "flex": null,
            "flex_flow": null,
            "grid_area": null,
            "grid_auto_columns": null,
            "grid_auto_flow": null,
            "grid_auto_rows": null,
            "grid_column": null,
            "grid_gap": null,
            "grid_row": null,
            "grid_template_areas": null,
            "grid_template_columns": null,
            "grid_template_rows": null,
            "height": null,
            "justify_content": null,
            "justify_items": null,
            "left": null,
            "margin": null,
            "max_height": null,
            "max_width": null,
            "min_height": null,
            "min_width": null,
            "object_fit": null,
            "object_position": null,
            "order": null,
            "overflow": null,
            "overflow_x": null,
            "overflow_y": null,
            "padding": null,
            "right": null,
            "top": null,
            "visibility": null,
            "width": null
          }
        },
        "4561a49381ea4357bf9a0a3fc6a02c24": {
          "model_module": "@jupyter-widgets/controls",
          "model_name": "DescriptionStyleModel",
          "model_module_version": "1.5.0",
          "state": {
            "_model_module": "@jupyter-widgets/controls",
            "_model_module_version": "1.5.0",
            "_model_name": "DescriptionStyleModel",
            "_view_count": null,
            "_view_module": "@jupyter-widgets/base",
            "_view_module_version": "1.2.0",
            "_view_name": "StyleView",
            "description_width": ""
          }
        }
      }
    }
  },
  "cells": [
    {
      "cell_type": "markdown",
      "source": [
        "#Wprowadzenie\n",
        "\n",
        "https://cloud.google.com/blog/products/data-analytics/genai-and-google-cloud-ml-to-get-actionable-insight"
      ],
      "metadata": {
        "id": "C2bPwBKsJwV-"
      }
    },
    {
      "cell_type": "markdown",
      "source": [
        "#Prep"
      ],
      "metadata": {
        "id": "xq457C4Ojd7b"
      }
    },
    {
      "cell_type": "code",
      "source": [
        "PROJECT_ID = \"empik-ga360\" # @param {type:\"string\"}\n",
        "\n",
        "! gcloud config set project {PROJECT_ID}"
      ],
      "metadata": {
        "colab": {
          "base_uri": "https://localhost:8080/"
        },
        "id": "_JpIezf5jfYP",
        "outputId": "d35506db-4276-4ab8-ac4a-7ea9aee7f5f6"
      },
      "execution_count": null,
      "outputs": [
        {
          "output_type": "stream",
          "name": "stdout",
          "text": [
            "Updated property [core/project].\n"
          ]
        }
      ]
    },
    {
      "cell_type": "code",
      "source": [
        "REGION = \"US\"  # @param {type: \"string\"}"
      ],
      "metadata": {
        "id": "v7XkveOvjlln"
      },
      "execution_count": null,
      "outputs": []
    },
    {
      "cell_type": "markdown",
      "source": [
        "#Modele\n",
        "\n",
        "* **Embeddings for Text (textembedding-gecko)** -  to nazwa modelu obsługującego osadzanie tekstu. Osadzanie tekstu to technika NLP, która konwertuje dane tekstowe na wektory numeryczne, które mogą być przetwarzane przez algorytmy uczenia maszynowego, zwłaszcza duże modele. Te reprezentacje wektorowe mają na celu uchwycenie semantycznego znaczenia i kontekstu słów, które reprezentują.\n",
        "\n",
        "* **BigQuery ML K-means model** - model grupowania do segmentacji danych. K-średnie to technika uczenia się bez nadzoru, więc szkolenie modeli nie wymaga etykiet ani dzielenia danych na potrzeby szkolenia lub oceny.\n",
        "\n",
        "* **text-bison foundation model** - duży model językowy, który został wytrenowany na ogromnym zbiorze danych składającym się z tekstu i kodu. Może generować tekst, tłumaczyć języki, pisać różnego rodzaju kreatywne treści i odpowiadać na wszelkiego rodzaju pytania. Jest częścią Generative AI na Vertex AI\n",
        "\n"
      ],
      "metadata": {
        "id": "jMcLqHi1sojB"
      }
    },
    {
      "cell_type": "markdown",
      "source": [
        "#Osadzanie tekstu (textembedding-gecko)"
      ],
      "metadata": {
        "id": "jAhl1SsVkDnC"
      }
    },
    {
      "cell_type": "code",
      "source": [
        "import bigframes.pandas as bf\n",
        "\n",
        "bf.options.bigquery.project = PROJECT_ID\n",
        "bf.options.bigquery.location = REGION"
      ],
      "metadata": {
        "id": "6bM4NLolkEL9"
      },
      "execution_count": null,
      "outputs": []
    },
    {
      "cell_type": "code",
      "source": [
        "%%bigquery\n",
        "\n",
        "SELECT\n",
        "  *\n",
        "FROM\n",
        "  `bigquery-public-data.cfpb_complaints.complaint_database`\n",
        "LIMIT\n",
        "  3"
      ],
      "metadata": {
        "colab": {
          "base_uri": "https://localhost:8080/",
          "height": 394,
          "referenced_widgets": [
            "08c94c1e1ae641e79ebf1df26a415057",
            "bc56ec1536224325a6ff5ade66915c8b",
            "0fe7e975735f46249237b023ba800ec1",
            "58c703f4dbf6412e92db704b5ea8b133",
            "c6419315879d45c2bb0a8b50b9e04d02",
            "02f0561eb4bd4003b7cebbcc4248c788",
            "4854c17a9a7a41a2b18c4dd9289f8e50",
            "c60b05e7cf144e598542d02194c261cc",
            "ab5e58102a414e4a928066234cc3f3aa",
            "608fa8ab48c241608a62924f5a80840f",
            "b060eabbdc504e1e84a7db89bea5b2c6",
            "b6031d18d26a4101b430c62654b04c70",
            "6c5130b5227441f6b64966e0e5973e5b",
            "c52ec7be71f14346bd777667c823c39a",
            "408d9d682f3348ecbaef8d6b05973ece",
            "7152ab4c03b0458eac29cc4241fc7085",
            "3a36344504cd400da4126512c1b06b3e",
            "05e470717140412ab75b7b4a97466512",
            "78ab8f55b71c46aa9d4a72a55aa05286",
            "4a270fffaaba48ad9fe2fee0e1a2796c",
            "6cea114f536e49c1a13120b495627575",
            "4561a49381ea4357bf9a0a3fc6a02c24"
          ]
        },
        "id": "kTCvLqdlouaU",
        "outputId": "68d0fab7-78f0-428a-8f55-5de3ccb06bcf"
      },
      "execution_count": null,
      "outputs": [
        {
          "output_type": "display_data",
          "data": {
            "text/plain": [
              "Query is running:   0%|          |"
            ],
            "application/vnd.jupyter.widget-view+json": {
              "version_major": 2,
              "version_minor": 0,
              "model_id": "08c94c1e1ae641e79ebf1df26a415057"
            }
          },
          "metadata": {}
        },
        {
          "output_type": "display_data",
          "data": {
            "text/plain": [
              "Downloading:   0%|          |"
            ],
            "application/vnd.jupyter.widget-view+json": {
              "version_major": 2,
              "version_minor": 0,
              "model_id": "b6031d18d26a4101b430c62654b04c70"
            }
          },
          "metadata": {}
        },
        {
          "output_type": "execute_result",
          "data": {
            "text/plain": [
              "  date_received                  product                  subproduct  \\\n",
              "0    2014-03-05  Bank account or service  Other bank product/service   \n",
              "1    2014-01-21  Bank account or service  Other bank product/service   \n",
              "2    2020-12-31          Debt collection                  Other debt   \n",
              "\n",
              "                                     issue       subissue  \\\n",
              "0  Account opening, closing, or management           None   \n",
              "1  Account opening, closing, or management           None   \n",
              "2        Attempts to collect debt not owed  Debt was paid   \n",
              "\n",
              "                        consumer_complaint_narrative company_public_response  \\\n",
              "0                                               None                    None   \n",
              "1                                               None                    None   \n",
              "2  I moved to my new home in XX/XX/2018 and we ha...                    None   \n",
              "\n",
              "  company_name state zip_code           tags consumer_consent_provided  \\\n",
              "0          ERC    AR    72336  Servicemember                      None   \n",
              "1          ERC    UT    84046           None                      None   \n",
              "2          ERC    VA  22602.0  Servicemember          Consent provided   \n",
              "\n",
              "  submitted_via date_sent_to_company     company_response_to_consumer  \\\n",
              "0   Postal mail           2014-03-10  Closed with non-monetary relief   \n",
              "1      Referral           2014-01-29  Closed with non-monetary relief   \n",
              "2           Web           2021-01-14          Closed with explanation   \n",
              "\n",
              "   timely_response  consumer_disputed complaint_id  \n",
              "0             True              False       743665  \n",
              "1             True              False       678608  \n",
              "2             True               <NA>      4041190  "
            ],
            "text/html": [
              "\n",
              "  <div id=\"df-b2631451-ea3d-42fa-b75d-27b17146f438\" class=\"colab-df-container\">\n",
              "    <div>\n",
              "<style scoped>\n",
              "    .dataframe tbody tr th:only-of-type {\n",
              "        vertical-align: middle;\n",
              "    }\n",
              "\n",
              "    .dataframe tbody tr th {\n",
              "        vertical-align: top;\n",
              "    }\n",
              "\n",
              "    .dataframe thead th {\n",
              "        text-align: right;\n",
              "    }\n",
              "</style>\n",
              "<table border=\"1\" class=\"dataframe\">\n",
              "  <thead>\n",
              "    <tr style=\"text-align: right;\">\n",
              "      <th></th>\n",
              "      <th>date_received</th>\n",
              "      <th>product</th>\n",
              "      <th>subproduct</th>\n",
              "      <th>issue</th>\n",
              "      <th>subissue</th>\n",
              "      <th>consumer_complaint_narrative</th>\n",
              "      <th>company_public_response</th>\n",
              "      <th>company_name</th>\n",
              "      <th>state</th>\n",
              "      <th>zip_code</th>\n",
              "      <th>tags</th>\n",
              "      <th>consumer_consent_provided</th>\n",
              "      <th>submitted_via</th>\n",
              "      <th>date_sent_to_company</th>\n",
              "      <th>company_response_to_consumer</th>\n",
              "      <th>timely_response</th>\n",
              "      <th>consumer_disputed</th>\n",
              "      <th>complaint_id</th>\n",
              "    </tr>\n",
              "  </thead>\n",
              "  <tbody>\n",
              "    <tr>\n",
              "      <th>0</th>\n",
              "      <td>2014-03-05</td>\n",
              "      <td>Bank account or service</td>\n",
              "      <td>Other bank product/service</td>\n",
              "      <td>Account opening, closing, or management</td>\n",
              "      <td>None</td>\n",
              "      <td>None</td>\n",
              "      <td>None</td>\n",
              "      <td>ERC</td>\n",
              "      <td>AR</td>\n",
              "      <td>72336</td>\n",
              "      <td>Servicemember</td>\n",
              "      <td>None</td>\n",
              "      <td>Postal mail</td>\n",
              "      <td>2014-03-10</td>\n",
              "      <td>Closed with non-monetary relief</td>\n",
              "      <td>True</td>\n",
              "      <td>False</td>\n",
              "      <td>743665</td>\n",
              "    </tr>\n",
              "    <tr>\n",
              "      <th>1</th>\n",
              "      <td>2014-01-21</td>\n",
              "      <td>Bank account or service</td>\n",
              "      <td>Other bank product/service</td>\n",
              "      <td>Account opening, closing, or management</td>\n",
              "      <td>None</td>\n",
              "      <td>None</td>\n",
              "      <td>None</td>\n",
              "      <td>ERC</td>\n",
              "      <td>UT</td>\n",
              "      <td>84046</td>\n",
              "      <td>None</td>\n",
              "      <td>None</td>\n",
              "      <td>Referral</td>\n",
              "      <td>2014-01-29</td>\n",
              "      <td>Closed with non-monetary relief</td>\n",
              "      <td>True</td>\n",
              "      <td>False</td>\n",
              "      <td>678608</td>\n",
              "    </tr>\n",
              "    <tr>\n",
              "      <th>2</th>\n",
              "      <td>2020-12-31</td>\n",
              "      <td>Debt collection</td>\n",
              "      <td>Other debt</td>\n",
              "      <td>Attempts to collect debt not owed</td>\n",
              "      <td>Debt was paid</td>\n",
              "      <td>I moved to my new home in XX/XX/2018 and we ha...</td>\n",
              "      <td>None</td>\n",
              "      <td>ERC</td>\n",
              "      <td>VA</td>\n",
              "      <td>22602.0</td>\n",
              "      <td>Servicemember</td>\n",
              "      <td>Consent provided</td>\n",
              "      <td>Web</td>\n",
              "      <td>2021-01-14</td>\n",
              "      <td>Closed with explanation</td>\n",
              "      <td>True</td>\n",
              "      <td>&lt;NA&gt;</td>\n",
              "      <td>4041190</td>\n",
              "    </tr>\n",
              "  </tbody>\n",
              "</table>\n",
              "</div>\n",
              "    <div class=\"colab-df-buttons\">\n",
              "\n",
              "  <div class=\"colab-df-container\">\n",
              "    <button class=\"colab-df-convert\" onclick=\"convertToInteractive('df-b2631451-ea3d-42fa-b75d-27b17146f438')\"\n",
              "            title=\"Convert this dataframe to an interactive table.\"\n",
              "            style=\"display:none;\">\n",
              "\n",
              "  <svg xmlns=\"http://www.w3.org/2000/svg\" height=\"24px\" viewBox=\"0 -960 960 960\">\n",
              "    <path d=\"M120-120v-720h720v720H120Zm60-500h600v-160H180v160Zm220 220h160v-160H400v160Zm0 220h160v-160H400v160ZM180-400h160v-160H180v160Zm440 0h160v-160H620v160ZM180-180h160v-160H180v160Zm440 0h160v-160H620v160Z\"/>\n",
              "  </svg>\n",
              "    </button>\n",
              "\n",
              "  <style>\n",
              "    .colab-df-container {\n",
              "      display:flex;\n",
              "      gap: 12px;\n",
              "    }\n",
              "\n",
              "    .colab-df-convert {\n",
              "      background-color: #E8F0FE;\n",
              "      border: none;\n",
              "      border-radius: 50%;\n",
              "      cursor: pointer;\n",
              "      display: none;\n",
              "      fill: #1967D2;\n",
              "      height: 32px;\n",
              "      padding: 0 0 0 0;\n",
              "      width: 32px;\n",
              "    }\n",
              "\n",
              "    .colab-df-convert:hover {\n",
              "      background-color: #E2EBFA;\n",
              "      box-shadow: 0px 1px 2px rgba(60, 64, 67, 0.3), 0px 1px 3px 1px rgba(60, 64, 67, 0.15);\n",
              "      fill: #174EA6;\n",
              "    }\n",
              "\n",
              "    .colab-df-buttons div {\n",
              "      margin-bottom: 4px;\n",
              "    }\n",
              "\n",
              "    [theme=dark] .colab-df-convert {\n",
              "      background-color: #3B4455;\n",
              "      fill: #D2E3FC;\n",
              "    }\n",
              "\n",
              "    [theme=dark] .colab-df-convert:hover {\n",
              "      background-color: #434B5C;\n",
              "      box-shadow: 0px 1px 3px 1px rgba(0, 0, 0, 0.15);\n",
              "      filter: drop-shadow(0px 1px 2px rgba(0, 0, 0, 0.3));\n",
              "      fill: #FFFFFF;\n",
              "    }\n",
              "  </style>\n",
              "\n",
              "    <script>\n",
              "      const buttonEl =\n",
              "        document.querySelector('#df-b2631451-ea3d-42fa-b75d-27b17146f438 button.colab-df-convert');\n",
              "      buttonEl.style.display =\n",
              "        google.colab.kernel.accessAllowed ? 'block' : 'none';\n",
              "\n",
              "      async function convertToInteractive(key) {\n",
              "        const element = document.querySelector('#df-b2631451-ea3d-42fa-b75d-27b17146f438');\n",
              "        const dataTable =\n",
              "          await google.colab.kernel.invokeFunction('convertToInteractive',\n",
              "                                                    [key], {});\n",
              "        if (!dataTable) return;\n",
              "\n",
              "        const docLinkHtml = 'Like what you see? Visit the ' +\n",
              "          '<a target=\"_blank\" href=https://colab.research.google.com/notebooks/data_table.ipynb>data table notebook</a>'\n",
              "          + ' to learn more about interactive tables.';\n",
              "        element.innerHTML = '';\n",
              "        dataTable['output_type'] = 'display_data';\n",
              "        await google.colab.output.renderOutput(dataTable, element);\n",
              "        const docLink = document.createElement('div');\n",
              "        docLink.innerHTML = docLinkHtml;\n",
              "        element.appendChild(docLink);\n",
              "      }\n",
              "    </script>\n",
              "  </div>\n",
              "\n",
              "\n",
              "<div id=\"df-d3dc8bdd-73bd-4bf3-b5ad-eb57e37e2e57\">\n",
              "  <button class=\"colab-df-quickchart\" onclick=\"quickchart('df-d3dc8bdd-73bd-4bf3-b5ad-eb57e37e2e57')\"\n",
              "            title=\"Suggest charts\"\n",
              "            style=\"display:none;\">\n",
              "\n",
              "<svg xmlns=\"http://www.w3.org/2000/svg\" height=\"24px\"viewBox=\"0 0 24 24\"\n",
              "     width=\"24px\">\n",
              "    <g>\n",
              "        <path d=\"M19 3H5c-1.1 0-2 .9-2 2v14c0 1.1.9 2 2 2h14c1.1 0 2-.9 2-2V5c0-1.1-.9-2-2-2zM9 17H7v-7h2v7zm4 0h-2V7h2v10zm4 0h-2v-4h2v4z\"/>\n",
              "    </g>\n",
              "</svg>\n",
              "  </button>\n",
              "\n",
              "<style>\n",
              "  .colab-df-quickchart {\n",
              "      --bg-color: #E8F0FE;\n",
              "      --fill-color: #1967D2;\n",
              "      --hover-bg-color: #E2EBFA;\n",
              "      --hover-fill-color: #174EA6;\n",
              "      --disabled-fill-color: #AAA;\n",
              "      --disabled-bg-color: #DDD;\n",
              "  }\n",
              "\n",
              "  [theme=dark] .colab-df-quickchart {\n",
              "      --bg-color: #3B4455;\n",
              "      --fill-color: #D2E3FC;\n",
              "      --hover-bg-color: #434B5C;\n",
              "      --hover-fill-color: #FFFFFF;\n",
              "      --disabled-bg-color: #3B4455;\n",
              "      --disabled-fill-color: #666;\n",
              "  }\n",
              "\n",
              "  .colab-df-quickchart {\n",
              "    background-color: var(--bg-color);\n",
              "    border: none;\n",
              "    border-radius: 50%;\n",
              "    cursor: pointer;\n",
              "    display: none;\n",
              "    fill: var(--fill-color);\n",
              "    height: 32px;\n",
              "    padding: 0;\n",
              "    width: 32px;\n",
              "  }\n",
              "\n",
              "  .colab-df-quickchart:hover {\n",
              "    background-color: var(--hover-bg-color);\n",
              "    box-shadow: 0 1px 2px rgba(60, 64, 67, 0.3), 0 1px 3px 1px rgba(60, 64, 67, 0.15);\n",
              "    fill: var(--button-hover-fill-color);\n",
              "  }\n",
              "\n",
              "  .colab-df-quickchart-complete:disabled,\n",
              "  .colab-df-quickchart-complete:disabled:hover {\n",
              "    background-color: var(--disabled-bg-color);\n",
              "    fill: var(--disabled-fill-color);\n",
              "    box-shadow: none;\n",
              "  }\n",
              "\n",
              "  .colab-df-spinner {\n",
              "    border: 2px solid var(--fill-color);\n",
              "    border-color: transparent;\n",
              "    border-bottom-color: var(--fill-color);\n",
              "    animation:\n",
              "      spin 1s steps(1) infinite;\n",
              "  }\n",
              "\n",
              "  @keyframes spin {\n",
              "    0% {\n",
              "      border-color: transparent;\n",
              "      border-bottom-color: var(--fill-color);\n",
              "      border-left-color: var(--fill-color);\n",
              "    }\n",
              "    20% {\n",
              "      border-color: transparent;\n",
              "      border-left-color: var(--fill-color);\n",
              "      border-top-color: var(--fill-color);\n",
              "    }\n",
              "    30% {\n",
              "      border-color: transparent;\n",
              "      border-left-color: var(--fill-color);\n",
              "      border-top-color: var(--fill-color);\n",
              "      border-right-color: var(--fill-color);\n",
              "    }\n",
              "    40% {\n",
              "      border-color: transparent;\n",
              "      border-right-color: var(--fill-color);\n",
              "      border-top-color: var(--fill-color);\n",
              "    }\n",
              "    60% {\n",
              "      border-color: transparent;\n",
              "      border-right-color: var(--fill-color);\n",
              "    }\n",
              "    80% {\n",
              "      border-color: transparent;\n",
              "      border-right-color: var(--fill-color);\n",
              "      border-bottom-color: var(--fill-color);\n",
              "    }\n",
              "    90% {\n",
              "      border-color: transparent;\n",
              "      border-bottom-color: var(--fill-color);\n",
              "    }\n",
              "  }\n",
              "</style>\n",
              "\n",
              "  <script>\n",
              "    async function quickchart(key) {\n",
              "      const quickchartButtonEl =\n",
              "        document.querySelector('#' + key + ' button');\n",
              "      quickchartButtonEl.disabled = true;  // To prevent multiple clicks.\n",
              "      quickchartButtonEl.classList.add('colab-df-spinner');\n",
              "      try {\n",
              "        const charts = await google.colab.kernel.invokeFunction(\n",
              "            'suggestCharts', [key], {});\n",
              "      } catch (error) {\n",
              "        console.error('Error during call to suggestCharts:', error);\n",
              "      }\n",
              "      quickchartButtonEl.classList.remove('colab-df-spinner');\n",
              "      quickchartButtonEl.classList.add('colab-df-quickchart-complete');\n",
              "    }\n",
              "    (() => {\n",
              "      let quickchartButtonEl =\n",
              "        document.querySelector('#df-d3dc8bdd-73bd-4bf3-b5ad-eb57e37e2e57 button');\n",
              "      quickchartButtonEl.style.display =\n",
              "        google.colab.kernel.accessAllowed ? 'block' : 'none';\n",
              "    })();\n",
              "  </script>\n",
              "</div>\n",
              "    </div>\n",
              "  </div>\n"
            ]
          },
          "metadata": {},
          "execution_count": 13
        }
      ]
    },
    {
      "cell_type": "code",
      "source": [
        "input_df = bf.read_gbq(\"bigquery-public-data.cfpb_complaints.complaint_database\")"
      ],
      "metadata": {
        "id": "O0bEGBPpoPZj"
      },
      "execution_count": null,
      "outputs": []
    },
    {
      "cell_type": "code",
      "source": [
        "input_df.head(3)"
      ],
      "metadata": {
        "colab": {
          "base_uri": "https://localhost:8080/",
          "height": 470
        },
        "id": "5jae1LZJo-pV",
        "outputId": "296c08fe-9408-45ee-f354-96e37570a6f1"
      },
      "execution_count": null,
      "outputs": [
        {
          "output_type": "display_data",
          "data": {
            "text/plain": [
              "<IPython.core.display.HTML object>"
            ],
            "text/html": [
              "Query job 30c94ce9-34d0-42ad-9fb4-1a8caee8736e is DONE. 2.3 GB processed. <a target=\"_blank\" href=\"https://console.cloud.google.com/bigquery?project=empik-ga360&j=bq:US:30c94ce9-34d0-42ad-9fb4-1a8caee8736e&page=queryresults\">Open Job</a>"
            ]
          },
          "metadata": {}
        },
        {
          "output_type": "display_data",
          "data": {
            "text/plain": [
              "<IPython.core.display.HTML object>"
            ],
            "text/html": [
              "Query job ab78753a-8c5f-4397-984c-1416b8822b9a is DONE. 2.3 GB processed. <a target=\"_blank\" href=\"https://console.cloud.google.com/bigquery?project=empik-ga360&j=bq:US:ab78753a-8c5f-4397-984c-1416b8822b9a&page=queryresults\">Open Job</a>"
            ]
          },
          "metadata": {}
        },
        {
          "output_type": "execute_result",
          "data": {
            "text/plain": [
              "  date_received                                            product  \\\n",
              "0    2022-06-24  Credit reporting, credit repair services, or o...   \n",
              "1    2021-06-30  Credit reporting, credit repair services, or o...   \n",
              "2    2017-06-05                                    Debt collection   \n",
              "\n",
              "         subproduct                                 issue  \\\n",
              "0  Credit reporting           Improper use of your report   \n",
              "1  Credit reporting  Incorrect information on your report   \n",
              "2        Other debt    False statements or representation   \n",
              "\n",
              "                                        subissue  \\\n",
              "0  Reporting company used your report improperly   \n",
              "1            Information belongs to someone else   \n",
              "2              Attempted to collect wrong amount   \n",
              "\n",
              "                        consumer_complaint_narrative  \\\n",
              "0                                               <NA>   \n",
              "1                                               <NA>   \n",
              "2  COLLECTION BUREAU OF AMERICA ACCOUNT NO.  XXXX...   \n",
              "\n",
              "                             company_public_response  \\\n",
              "0  Company has responded to the consumer and the ...   \n",
              "1                                               <NA>   \n",
              "2                                               <NA>   \n",
              "\n",
              "                             company_name state zip_code  tags  \\\n",
              "0  TRANSUNION INTERMEDIATE HOLDINGS, INC.    AL    35022  <NA>   \n",
              "1                           EQUIFAX, INC.    GA    30228  <NA>   \n",
              "2       Collection Bureau of America Ltd.    CA    92241  <NA>   \n",
              "\n",
              "  consumer_consent_provided submitted_via date_sent_to_company  \\\n",
              "0      Consent not provided           Web           2022-06-24   \n",
              "1      Consent not provided           Web           2021-06-30   \n",
              "2          Consent provided           Web           2017-06-05   \n",
              "\n",
              "      company_response_to_consumer  timely_response  consumer_disputed  \\\n",
              "0  Closed with non-monetary relief             True               <NA>   \n",
              "1          Closed with explanation             True               <NA>   \n",
              "2          Closed with explanation            False               <NA>   \n",
              "\n",
              "  complaint_id  \n",
              "0      5707282  \n",
              "1      4503873  \n",
              "2      2539953  \n",
              "\n",
              "[3 rows x 18 columns]"
            ],
            "text/html": [
              "<div>\n",
              "<style scoped>\n",
              "    .dataframe tbody tr th:only-of-type {\n",
              "        vertical-align: middle;\n",
              "    }\n",
              "\n",
              "    .dataframe tbody tr th {\n",
              "        vertical-align: top;\n",
              "    }\n",
              "\n",
              "    .dataframe thead th {\n",
              "        text-align: right;\n",
              "    }\n",
              "</style>\n",
              "<table border=\"1\" class=\"dataframe\">\n",
              "  <thead>\n",
              "    <tr style=\"text-align: right;\">\n",
              "      <th></th>\n",
              "      <th>date_received</th>\n",
              "      <th>product</th>\n",
              "      <th>subproduct</th>\n",
              "      <th>issue</th>\n",
              "      <th>subissue</th>\n",
              "      <th>consumer_complaint_narrative</th>\n",
              "      <th>company_public_response</th>\n",
              "      <th>company_name</th>\n",
              "      <th>state</th>\n",
              "      <th>zip_code</th>\n",
              "      <th>tags</th>\n",
              "      <th>consumer_consent_provided</th>\n",
              "      <th>submitted_via</th>\n",
              "      <th>date_sent_to_company</th>\n",
              "      <th>company_response_to_consumer</th>\n",
              "      <th>timely_response</th>\n",
              "      <th>consumer_disputed</th>\n",
              "      <th>complaint_id</th>\n",
              "    </tr>\n",
              "  </thead>\n",
              "  <tbody>\n",
              "    <tr>\n",
              "      <th>0</th>\n",
              "      <td>2022-06-24</td>\n",
              "      <td>Credit reporting, credit repair services, or o...</td>\n",
              "      <td>Credit reporting</td>\n",
              "      <td>Improper use of your report</td>\n",
              "      <td>Reporting company used your report improperly</td>\n",
              "      <td>&lt;NA&gt;</td>\n",
              "      <td>Company has responded to the consumer and the ...</td>\n",
              "      <td>TRANSUNION INTERMEDIATE HOLDINGS, INC.</td>\n",
              "      <td>AL</td>\n",
              "      <td>35022</td>\n",
              "      <td>&lt;NA&gt;</td>\n",
              "      <td>Consent not provided</td>\n",
              "      <td>Web</td>\n",
              "      <td>2022-06-24</td>\n",
              "      <td>Closed with non-monetary relief</td>\n",
              "      <td>True</td>\n",
              "      <td>&lt;NA&gt;</td>\n",
              "      <td>5707282</td>\n",
              "    </tr>\n",
              "    <tr>\n",
              "      <th>1</th>\n",
              "      <td>2021-06-30</td>\n",
              "      <td>Credit reporting, credit repair services, or o...</td>\n",
              "      <td>Credit reporting</td>\n",
              "      <td>Incorrect information on your report</td>\n",
              "      <td>Information belongs to someone else</td>\n",
              "      <td>&lt;NA&gt;</td>\n",
              "      <td>&lt;NA&gt;</td>\n",
              "      <td>EQUIFAX, INC.</td>\n",
              "      <td>GA</td>\n",
              "      <td>30228</td>\n",
              "      <td>&lt;NA&gt;</td>\n",
              "      <td>Consent not provided</td>\n",
              "      <td>Web</td>\n",
              "      <td>2021-06-30</td>\n",
              "      <td>Closed with explanation</td>\n",
              "      <td>True</td>\n",
              "      <td>&lt;NA&gt;</td>\n",
              "      <td>4503873</td>\n",
              "    </tr>\n",
              "    <tr>\n",
              "      <th>2</th>\n",
              "      <td>2017-06-05</td>\n",
              "      <td>Debt collection</td>\n",
              "      <td>Other debt</td>\n",
              "      <td>False statements or representation</td>\n",
              "      <td>Attempted to collect wrong amount</td>\n",
              "      <td>COLLECTION BUREAU OF AMERICA ACCOUNT NO.  XXXX...</td>\n",
              "      <td>&lt;NA&gt;</td>\n",
              "      <td>Collection Bureau of America Ltd.</td>\n",
              "      <td>CA</td>\n",
              "      <td>92241</td>\n",
              "      <td>&lt;NA&gt;</td>\n",
              "      <td>Consent provided</td>\n",
              "      <td>Web</td>\n",
              "      <td>2017-06-05</td>\n",
              "      <td>Closed with explanation</td>\n",
              "      <td>False</td>\n",
              "      <td>&lt;NA&gt;</td>\n",
              "      <td>2539953</td>\n",
              "    </tr>\n",
              "  </tbody>\n",
              "</table>\n",
              "<p>3 rows × 18 columns</p>\n",
              "</div>[3 rows x 18 columns in total]"
            ]
          },
          "metadata": {},
          "execution_count": 15
        }
      ]
    },
    {
      "cell_type": "code",
      "source": [
        "input_df.dtypes"
      ],
      "metadata": {
        "colab": {
          "base_uri": "https://localhost:8080/"
        },
        "id": "Tgv187GMpvI_",
        "outputId": "395d5d0e-5a8b-4d7c-9b34-0a3cfa4bf32f"
      },
      "execution_count": null,
      "outputs": [
        {
          "output_type": "execute_result",
          "data": {
            "text/plain": [
              "date_received                   date32[day][pyarrow]\n",
              "product                                       string\n",
              "subproduct                                    string\n",
              "issue                                         string\n",
              "subissue                                      string\n",
              "consumer_complaint_narrative                  string\n",
              "company_public_response                       string\n",
              "company_name                                  string\n",
              "state                                         string\n",
              "zip_code                                      string\n",
              "tags                                          string\n",
              "consumer_consent_provided                     string\n",
              "submitted_via                                 string\n",
              "date_sent_to_company            date32[day][pyarrow]\n",
              "company_response_to_consumer                  string\n",
              "timely_response                              boolean\n",
              "consumer_disputed                            boolean\n",
              "complaint_id                                  string\n",
              "dtype: object"
            ]
          },
          "metadata": {},
          "execution_count": 11
        }
      ]
    },
    {
      "cell_type": "code",
      "source": [
        "issues_df = input_df[[\"consumer_complaint_narrative\"]].dropna()\n",
        "issues_df.head(n=5)"
      ],
      "metadata": {
        "colab": {
          "base_uri": "https://localhost:8080/",
          "height": 287
        },
        "id": "AJhStAo3qCuN",
        "outputId": "9d74ac5f-a1b2-4486-d8c4-1f2d0c9d8838"
      },
      "execution_count": null,
      "outputs": [
        {
          "output_type": "display_data",
          "data": {
            "text/plain": [
              "<IPython.core.display.HTML object>"
            ],
            "text/html": [
              "Query job e2cbd889-83eb-4a37-8942-1a44cf41d829 is DONE. 2.3 GB processed. <a target=\"_blank\" href=\"https://console.cloud.google.com/bigquery?project=empik-ga360&j=bq:US:e2cbd889-83eb-4a37-8942-1a44cf41d829&page=queryresults\">Open Job</a>"
            ]
          },
          "metadata": {}
        },
        {
          "output_type": "display_data",
          "data": {
            "text/plain": [
              "<IPython.core.display.HTML object>"
            ],
            "text/html": [
              "Query job df483a13-3502-4522-90bc-3de51b2826a6 is DONE. 2.3 GB processed. <a target=\"_blank\" href=\"https://console.cloud.google.com/bigquery?project=empik-ga360&j=bq:US:df483a13-3502-4522-90bc-3de51b2826a6&page=queryresults\">Open Job</a>"
            ]
          },
          "metadata": {}
        },
        {
          "output_type": "execute_result",
          "data": {
            "text/plain": [
              "                         consumer_complaint_narrative\n",
              "2   COLLECTION BUREAU OF AMERICA ACCOUNT NO.  XXXX...\n",
              "3   Despite multiple written requests, the unverif...\n",
              "6   Once again you guys have not provided me with ...\n",
              "9   XX/XX/XXXX {$350.00} I received a outstating d...\n",
              "10  Im am unable to withdraw money from my account...\n",
              "\n",
              "[5 rows x 1 columns]"
            ],
            "text/html": [
              "<div>\n",
              "<style scoped>\n",
              "    .dataframe tbody tr th:only-of-type {\n",
              "        vertical-align: middle;\n",
              "    }\n",
              "\n",
              "    .dataframe tbody tr th {\n",
              "        vertical-align: top;\n",
              "    }\n",
              "\n",
              "    .dataframe thead th {\n",
              "        text-align: right;\n",
              "    }\n",
              "</style>\n",
              "<table border=\"1\" class=\"dataframe\">\n",
              "  <thead>\n",
              "    <tr style=\"text-align: right;\">\n",
              "      <th></th>\n",
              "      <th>consumer_complaint_narrative</th>\n",
              "    </tr>\n",
              "  </thead>\n",
              "  <tbody>\n",
              "    <tr>\n",
              "      <th>2</th>\n",
              "      <td>COLLECTION BUREAU OF AMERICA ACCOUNT NO.  XXXX...</td>\n",
              "    </tr>\n",
              "    <tr>\n",
              "      <th>3</th>\n",
              "      <td>Despite multiple written requests, the unverif...</td>\n",
              "    </tr>\n",
              "    <tr>\n",
              "      <th>6</th>\n",
              "      <td>Once again you guys have not provided me with ...</td>\n",
              "    </tr>\n",
              "    <tr>\n",
              "      <th>9</th>\n",
              "      <td>XX/XX/XXXX {$350.00} I received a outstating d...</td>\n",
              "    </tr>\n",
              "    <tr>\n",
              "      <th>10</th>\n",
              "      <td>Im am unable to withdraw money from my account...</td>\n",
              "    </tr>\n",
              "  </tbody>\n",
              "</table>\n",
              "<p>5 rows × 1 columns</p>\n",
              "</div>[5 rows x 1 columns in total]"
            ]
          },
          "metadata": {},
          "execution_count": 14
        }
      ]
    },
    {
      "cell_type": "code",
      "source": [
        "downsampled_issues_df = issues_df.sample(n=10000)"
      ],
      "metadata": {
        "id": "aM6OuNU3sWCX"
      },
      "execution_count": null,
      "outputs": []
    },
    {
      "cell_type": "markdown",
      "source": [
        "Embeddings for Text (textembedding-gecko)"
      ],
      "metadata": {
        "id": "PsU2xuTzu_Sw"
      }
    },
    {
      "cell_type": "code",
      "source": [
        "from bigframes.ml.llm import PaLM2TextEmbeddingGenerator\n",
        "\n",
        "model = PaLM2TextEmbeddingGenerator()"
      ],
      "metadata": {
        "colab": {
          "base_uri": "https://localhost:8080/",
          "height": 34
        },
        "id": "wJrdxVM-sdnA",
        "outputId": "32b1c4ee-2e31-477f-ea15-0ad5b6bfded0"
      },
      "execution_count": null,
      "outputs": [
        {
          "output_type": "display_data",
          "data": {
            "text/plain": [
              "<IPython.core.display.HTML object>"
            ],
            "text/html": [
              "Query job d7d622a5-aa51-4b12-9ed2-87a1b67810ce is DONE. 0 Bytes processed. <a target=\"_blank\" href=\"https://console.cloud.google.com/bigquery?project=empik-ga360&j=bq:US:d7d622a5-aa51-4b12-9ed2-87a1b67810ce&page=queryresults\">Open Job</a>"
            ]
          },
          "metadata": {}
        }
      ]
    },
    {
      "cell_type": "markdown",
      "source": [
        "Skargi i osadzony w nich tekst w postaci dwóch kolumn w DataFrame `predicted_embeddings`"
      ],
      "metadata": {
        "id": "RNuHrBjt6fdT"
      }
    },
    {
      "cell_type": "code",
      "source": [
        "predicted_embeddings = model.predict(downsampled_issues_df)\n",
        "\n",
        "predicted_embeddings.head()"
      ],
      "metadata": {
        "colab": {
          "base_uri": "https://localhost:8080/",
          "height": 706
        },
        "id": "_hjDJpUttdmH",
        "outputId": "901cc526-e071-488d-9c5d-7a22860514cd"
      },
      "execution_count": null,
      "outputs": [
        {
          "output_type": "display_data",
          "data": {
            "text/plain": [
              "<IPython.core.display.HTML object>"
            ],
            "text/html": [
              "Query job e3ac1c06-4ade-4b08-bd33-a2a1fb51535d is DONE. 2.3 GB processed. <a target=\"_blank\" href=\"https://console.cloud.google.com/bigquery?project=empik-ga360&j=bq:US:e3ac1c06-4ade-4b08-bd33-a2a1fb51535d&page=queryresults\">Open Job</a>"
            ]
          },
          "metadata": {}
        },
        {
          "output_type": "display_data",
          "data": {
            "text/plain": [
              "<IPython.core.display.HTML object>"
            ],
            "text/html": [
              "Query job f269dfb2-8876-4c65-8fe4-cc8b2f020fac is DONE. 80.0 kB processed. <a target=\"_blank\" href=\"https://console.cloud.google.com/bigquery?project=empik-ga360&j=bq:US:f269dfb2-8876-4c65-8fe4-cc8b2f020fac&page=queryresults\">Open Job</a>"
            ]
          },
          "metadata": {}
        },
        {
          "output_type": "display_data",
          "data": {
            "text/plain": [
              "<IPython.core.display.HTML object>"
            ],
            "text/html": [
              "Query job 3a602c31-06b4-4d5e-b793-4b43222c3e49 is DONE. 20.0 kB processed. <a target=\"_blank\" href=\"https://console.cloud.google.com/bigquery?project=empik-ga360&j=bq:US:3a602c31-06b4-4d5e-b793-4b43222c3e49&page=queryresults\">Open Job</a>"
            ]
          },
          "metadata": {}
        },
        {
          "output_type": "display_data",
          "data": {
            "text/plain": [
              "<IPython.core.display.HTML object>"
            ],
            "text/html": [
              "Query job 20117b27-1b31-4b61-be63-240eabca56a3 is DONE. 80.0 kB processed. <a target=\"_blank\" href=\"https://console.cloud.google.com/bigquery?project=empik-ga360&j=bq:US:20117b27-1b31-4b61-be63-240eabca56a3&page=queryresults\">Open Job</a>"
            ]
          },
          "metadata": {}
        },
        {
          "output_type": "display_data",
          "data": {
            "text/plain": [
              "<IPython.core.display.HTML object>"
            ],
            "text/html": [
              "Query job 61fa049e-2eef-4949-9e03-ea3622ecf689 is DONE. 72.2 MB processed. <a target=\"_blank\" href=\"https://console.cloud.google.com/bigquery?project=empik-ga360&j=bq:US:61fa049e-2eef-4949-9e03-ea3622ecf689&page=queryresults\">Open Job</a>"
            ]
          },
          "metadata": {}
        },
        {
          "output_type": "execute_result",
          "data": {
            "text/plain": [
              "                                         text_embedding  \\\n",
              "558   [0.002242599381133914, -0.017059965059161186, ...   \n",
              "1161  [0.011317512020468712, -0.03817551210522652, -...   \n",
              "2075  [0.013658484444022179, -0.048017676919698715, ...   \n",
              "2238  [0.014644364826381207, -0.019486676901578903, ...   \n",
              "2275  [0.005265800282359123, -0.04704391956329346, -...   \n",
              "\n",
              "                                 statistics ml_embed_text_status  \\\n",
              "558   {\"token_count\":231,\"truncated\":false}                        \n",
              "1161  {\"token_count\":184,\"truncated\":false}                        \n",
              "2075  {\"token_count\":176,\"truncated\":false}                        \n",
              "2238  {\"token_count\":456,\"truncated\":false}                        \n",
              "2275  {\"token_count\":318,\"truncated\":false}                        \n",
              "\n",
              "                                                content  \n",
              "558   We were with Owen we did a loan modification. ...  \n",
              "1161  XXXX is reporting a small loan tradeline that ...  \n",
              "2075  XXXXXXXX XXXX  keeps contacting me about a deb...  \n",
              "2238  Back in XX/XX/XXXX, I was making a deposit at ...  \n",
              "2275  I have a a unverified account from XXXX XXXX X...  \n",
              "\n",
              "[5 rows x 4 columns]"
            ],
            "text/html": [
              "<div>\n",
              "<style scoped>\n",
              "    .dataframe tbody tr th:only-of-type {\n",
              "        vertical-align: middle;\n",
              "    }\n",
              "\n",
              "    .dataframe tbody tr th {\n",
              "        vertical-align: top;\n",
              "    }\n",
              "\n",
              "    .dataframe thead th {\n",
              "        text-align: right;\n",
              "    }\n",
              "</style>\n",
              "<table border=\"1\" class=\"dataframe\">\n",
              "  <thead>\n",
              "    <tr style=\"text-align: right;\">\n",
              "      <th></th>\n",
              "      <th>text_embedding</th>\n",
              "      <th>statistics</th>\n",
              "      <th>ml_embed_text_status</th>\n",
              "      <th>content</th>\n",
              "    </tr>\n",
              "  </thead>\n",
              "  <tbody>\n",
              "    <tr>\n",
              "      <th>558</th>\n",
              "      <td>[0.002242599381133914, -0.017059965059161186, ...</td>\n",
              "      <td>{\"token_count\":231,\"truncated\":false}</td>\n",
              "      <td></td>\n",
              "      <td>We were with Owen we did a loan modification. ...</td>\n",
              "    </tr>\n",
              "    <tr>\n",
              "      <th>1161</th>\n",
              "      <td>[0.011317512020468712, -0.03817551210522652, -...</td>\n",
              "      <td>{\"token_count\":184,\"truncated\":false}</td>\n",
              "      <td></td>\n",
              "      <td>XXXX is reporting a small loan tradeline that ...</td>\n",
              "    </tr>\n",
              "    <tr>\n",
              "      <th>2075</th>\n",
              "      <td>[0.013658484444022179, -0.048017676919698715, ...</td>\n",
              "      <td>{\"token_count\":176,\"truncated\":false}</td>\n",
              "      <td></td>\n",
              "      <td>XXXXXXXX XXXX  keeps contacting me about a deb...</td>\n",
              "    </tr>\n",
              "    <tr>\n",
              "      <th>2238</th>\n",
              "      <td>[0.014644364826381207, -0.019486676901578903, ...</td>\n",
              "      <td>{\"token_count\":456,\"truncated\":false}</td>\n",
              "      <td></td>\n",
              "      <td>Back in XX/XX/XXXX, I was making a deposit at ...</td>\n",
              "    </tr>\n",
              "    <tr>\n",
              "      <th>2275</th>\n",
              "      <td>[0.005265800282359123, -0.04704391956329346, -...</td>\n",
              "      <td>{\"token_count\":318,\"truncated\":false}</td>\n",
              "      <td></td>\n",
              "      <td>I have a a unverified account from XXXX XXXX X...</td>\n",
              "    </tr>\n",
              "  </tbody>\n",
              "</table>\n",
              "<p>5 rows × 4 columns</p>\n",
              "</div>[5 rows x 4 columns in total]"
            ]
          },
          "metadata": {},
          "execution_count": 19
        }
      ]
    },
    {
      "cell_type": "markdown",
      "source": [
        "#k-means BigQuery (KMEANS)"
      ],
      "metadata": {
        "id": "5bfbo6isv8it"
      }
    },
    {
      "cell_type": "code",
      "source": [
        "from bigframes.ml.cluster import KMeans\n",
        "\n",
        "cluster_model = KMeans(n_clusters=10)"
      ],
      "metadata": {
        "id": "aZa6SQZAvNQd"
      },
      "execution_count": null,
      "outputs": []
    },
    {
      "cell_type": "markdown",
      "source": [
        "DataFrame `clustered_result` w polu `CENTROID_ID` ma ID od 1-10 wskazujący do, kórej grupy semantycznej należy skarga."
      ],
      "metadata": {
        "id": "rAp1Rv_f9PI9"
      }
    },
    {
      "cell_type": "code",
      "source": [
        "cluster_model.fit(predicted_embeddings[[\"text_embedding\"]])\n",
        "clustered_result = cluster_model.predict(predicted_embeddings)\n",
        "clustered_result.head(n=5)"
      ],
      "metadata": {
        "colab": {
          "base_uri": "https://localhost:8080/",
          "height": 724
        },
        "id": "rT2yyfWE8G1W",
        "outputId": "5cf132d2-1ace-4526-ac1f-3449bac5c40d"
      },
      "execution_count": null,
      "outputs": [
        {
          "output_type": "display_data",
          "data": {
            "text/plain": [
              "<IPython.core.display.HTML object>"
            ],
            "text/html": [
              "Query job 98cdbeda-2943-4a8d-af4d-ea59711ddb44 is DONE. 61.5 MB processed. <a target=\"_blank\" href=\"https://console.cloud.google.com/bigquery?project=empik-ga360&j=bq:US:98cdbeda-2943-4a8d-af4d-ea59711ddb44&page=queryresults\">Open Job</a>"
            ]
          },
          "metadata": {}
        },
        {
          "output_type": "display_data",
          "data": {
            "text/plain": [
              "<IPython.core.display.HTML object>"
            ],
            "text/html": [
              "Query job 10426c30-05f3-4fa2-97e7-ffed685a8772 is DONE. 0 Bytes processed. <a target=\"_blank\" href=\"https://console.cloud.google.com/bigquery?project=empik-ga360&j=bq:US:10426c30-05f3-4fa2-97e7-ffed685a8772&page=queryresults\">Open Job</a>"
            ]
          },
          "metadata": {}
        },
        {
          "output_type": "display_data",
          "data": {
            "text/plain": [
              "<IPython.core.display.HTML object>"
            ],
            "text/html": [
              "Query job c6ea2adf-f464-40eb-9fe0-b52bc4739274 is DONE. 72.4 MB processed. <a target=\"_blank\" href=\"https://console.cloud.google.com/bigquery?project=empik-ga360&j=bq:US:c6ea2adf-f464-40eb-9fe0-b52bc4739274&page=queryresults\">Open Job</a>"
            ]
          },
          "metadata": {}
        },
        {
          "output_type": "display_data",
          "data": {
            "text/plain": [
              "<IPython.core.display.HTML object>"
            ],
            "text/html": [
              "Query job e3b055c7-651f-4965-9512-817467357e4c is DONE. 80.0 kB processed. <a target=\"_blank\" href=\"https://console.cloud.google.com/bigquery?project=empik-ga360&j=bq:US:e3b055c7-651f-4965-9512-817467357e4c&page=queryresults\">Open Job</a>"
            ]
          },
          "metadata": {}
        },
        {
          "output_type": "display_data",
          "data": {
            "text/plain": [
              "<IPython.core.display.HTML object>"
            ],
            "text/html": [
              "Query job d319c26e-f935-47f3-b9f9-0686a040932f is DONE. 80.0 kB processed. <a target=\"_blank\" href=\"https://console.cloud.google.com/bigquery?project=empik-ga360&j=bq:US:d319c26e-f935-47f3-b9f9-0686a040932f&page=queryresults\">Open Job</a>"
            ]
          },
          "metadata": {}
        },
        {
          "output_type": "display_data",
          "data": {
            "text/plain": [
              "<IPython.core.display.HTML object>"
            ],
            "text/html": [
              "Query job 4b2a618e-32e7-491a-bbe9-1be86c2196d9 is DONE. 73.0 MB processed. <a target=\"_blank\" href=\"https://console.cloud.google.com/bigquery?project=empik-ga360&j=bq:US:4b2a618e-32e7-491a-bbe9-1be86c2196d9&page=queryresults\">Open Job</a>"
            ]
          },
          "metadata": {}
        },
        {
          "output_type": "execute_result",
          "data": {
            "text/plain": [
              "      CENTROID_ID                         NEAREST_CENTROIDS_DISTANCE  \\\n",
              "558             6  [{'CENTROID_ID': 6, 'DISTANCE': 0.484309679224...   \n",
              "1161            8  [{'CENTROID_ID': 8, 'DISTANCE': 0.471695489693...   \n",
              "2075           10  [{'CENTROID_ID': 10, 'DISTANCE': 0.41308172465...   \n",
              "2238            7  [{'CENTROID_ID': 7, 'DISTANCE': 0.497820901064...   \n",
              "2275            8  [{'CENTROID_ID': 8, 'DISTANCE': 0.450831634508...   \n",
              "\n",
              "                                         text_embedding  \\\n",
              "558   [0.002242599381133914, -0.017059965059161186, ...   \n",
              "1161  [0.011317512020468712, -0.03817551210522652, -...   \n",
              "2075  [0.013658484444022179, -0.048017676919698715, ...   \n",
              "2238  [0.014644364826381207, -0.019486676901578903, ...   \n",
              "2275  [0.005265800282359123, -0.04704391956329346, -...   \n",
              "\n",
              "                                 statistics ml_embed_text_status  \\\n",
              "558   {\"token_count\":231,\"truncated\":false}                        \n",
              "1161  {\"token_count\":184,\"truncated\":false}                        \n",
              "2075  {\"token_count\":176,\"truncated\":false}                        \n",
              "2238  {\"token_count\":456,\"truncated\":false}                        \n",
              "2275  {\"token_count\":318,\"truncated\":false}                        \n",
              "\n",
              "                                                content  \n",
              "558   We were with Owen we did a loan modification. ...  \n",
              "1161  XXXX is reporting a small loan tradeline that ...  \n",
              "2075  XXXXXXXX XXXX  keeps contacting me about a deb...  \n",
              "2238  Back in XX/XX/XXXX, I was making a deposit at ...  \n",
              "2275  I have a a unverified account from XXXX XXXX X...  \n",
              "\n",
              "[5 rows x 6 columns]"
            ],
            "text/html": [
              "<div>\n",
              "<style scoped>\n",
              "    .dataframe tbody tr th:only-of-type {\n",
              "        vertical-align: middle;\n",
              "    }\n",
              "\n",
              "    .dataframe tbody tr th {\n",
              "        vertical-align: top;\n",
              "    }\n",
              "\n",
              "    .dataframe thead th {\n",
              "        text-align: right;\n",
              "    }\n",
              "</style>\n",
              "<table border=\"1\" class=\"dataframe\">\n",
              "  <thead>\n",
              "    <tr style=\"text-align: right;\">\n",
              "      <th></th>\n",
              "      <th>CENTROID_ID</th>\n",
              "      <th>NEAREST_CENTROIDS_DISTANCE</th>\n",
              "      <th>text_embedding</th>\n",
              "      <th>statistics</th>\n",
              "      <th>ml_embed_text_status</th>\n",
              "      <th>content</th>\n",
              "    </tr>\n",
              "  </thead>\n",
              "  <tbody>\n",
              "    <tr>\n",
              "      <th>558</th>\n",
              "      <td>6</td>\n",
              "      <td>[{'CENTROID_ID': 6, 'DISTANCE': 0.484309679224...</td>\n",
              "      <td>[0.002242599381133914, -0.017059965059161186, ...</td>\n",
              "      <td>{\"token_count\":231,\"truncated\":false}</td>\n",
              "      <td></td>\n",
              "      <td>We were with Owen we did a loan modification. ...</td>\n",
              "    </tr>\n",
              "    <tr>\n",
              "      <th>1161</th>\n",
              "      <td>8</td>\n",
              "      <td>[{'CENTROID_ID': 8, 'DISTANCE': 0.471695489693...</td>\n",
              "      <td>[0.011317512020468712, -0.03817551210522652, -...</td>\n",
              "      <td>{\"token_count\":184,\"truncated\":false}</td>\n",
              "      <td></td>\n",
              "      <td>XXXX is reporting a small loan tradeline that ...</td>\n",
              "    </tr>\n",
              "    <tr>\n",
              "      <th>2075</th>\n",
              "      <td>10</td>\n",
              "      <td>[{'CENTROID_ID': 10, 'DISTANCE': 0.41308172465...</td>\n",
              "      <td>[0.013658484444022179, -0.048017676919698715, ...</td>\n",
              "      <td>{\"token_count\":176,\"truncated\":false}</td>\n",
              "      <td></td>\n",
              "      <td>XXXXXXXX XXXX  keeps contacting me about a deb...</td>\n",
              "    </tr>\n",
              "    <tr>\n",
              "      <th>2238</th>\n",
              "      <td>7</td>\n",
              "      <td>[{'CENTROID_ID': 7, 'DISTANCE': 0.497820901064...</td>\n",
              "      <td>[0.014644364826381207, -0.019486676901578903, ...</td>\n",
              "      <td>{\"token_count\":456,\"truncated\":false}</td>\n",
              "      <td></td>\n",
              "      <td>Back in XX/XX/XXXX, I was making a deposit at ...</td>\n",
              "    </tr>\n",
              "    <tr>\n",
              "      <th>2275</th>\n",
              "      <td>8</td>\n",
              "      <td>[{'CENTROID_ID': 8, 'DISTANCE': 0.450831634508...</td>\n",
              "      <td>[0.005265800282359123, -0.04704391956329346, -...</td>\n",
              "      <td>{\"token_count\":318,\"truncated\":false}</td>\n",
              "      <td></td>\n",
              "      <td>I have a a unverified account from XXXX XXXX X...</td>\n",
              "    </tr>\n",
              "  </tbody>\n",
              "</table>\n",
              "<p>5 rows × 6 columns</p>\n",
              "</div>[5 rows x 6 columns in total]"
            ]
          },
          "metadata": {},
          "execution_count": 21
        }
      ]
    },
    {
      "cell_type": "code",
      "source": [
        "cluster_1_result = clustered_result[clustered_result[\"CENTROID_ID\"] == 1][[\"content\"]]\n",
        "cluster_1_result_pandas = cluster_1_result.head(5).to_pandas()"
      ],
      "metadata": {
        "colab": {
          "base_uri": "https://localhost:8080/",
          "height": 34
        },
        "id": "xuBogzJF_a3S",
        "outputId": "98995048-01fd-4a5e-9e9e-88c22c276731"
      },
      "execution_count": null,
      "outputs": [
        {
          "output_type": "display_data",
          "data": {
            "text/plain": [
              "<IPython.core.display.HTML object>"
            ],
            "text/html": [
              "Query job bb89507c-a538-4df5-b717-cbadff140030 is DONE. 0 Bytes processed. <a target=\"_blank\" href=\"https://console.cloud.google.com/bigquery?project=empik-ga360&j=bq:US:bb89507c-a538-4df5-b717-cbadff140030&page=queryresults\">Open Job</a>"
            ]
          },
          "metadata": {}
        }
      ]
    },
    {
      "cell_type": "code",
      "source": [
        "cluster_2_result = clustered_result[clustered_result[\"CENTROID_ID\"] == 2][[\"content\"]]\n",
        "cluster_2_result_pandas = cluster_2_result.head(5).to_pandas()\n",
        "\n",
        "cluster_2_result_pandas.head(3)"
      ],
      "metadata": {
        "colab": {
          "base_uri": "https://localhost:8080/",
          "height": 160
        },
        "id": "o_fnqLee-5hl",
        "outputId": "6c103340-862b-498d-f4a3-3a896ca0b27b"
      },
      "execution_count": null,
      "outputs": [
        {
          "output_type": "display_data",
          "data": {
            "text/plain": [
              "<IPython.core.display.HTML object>"
            ],
            "text/html": [
              "Query job bf218002-71aa-4617-b37f-1fdede81120d is DONE. 0 Bytes processed. <a target=\"_blank\" href=\"https://console.cloud.google.com/bigquery?project=empik-ga360&j=bq:US:bf218002-71aa-4617-b37f-1fdede81120d&page=queryresults\">Open Job</a>"
            ]
          },
          "metadata": {}
        },
        {
          "output_type": "execute_result",
          "data": {
            "text/plain": [
              "                                                 content\n",
              "2623   I have not found a XXXX XXXX for Credit Accept...\n",
              "9674   In XX/XX/XXXX I took a loan to buy a vehicle a...\n",
              "11813  XXXX XXXX XXXX XXXX promised transportation an..."
            ],
            "text/html": [
              "\n",
              "  <div id=\"df-1d49d5b0-f29f-4497-b263-c11df3b6488b\" class=\"colab-df-container\">\n",
              "    <div>\n",
              "<style scoped>\n",
              "    .dataframe tbody tr th:only-of-type {\n",
              "        vertical-align: middle;\n",
              "    }\n",
              "\n",
              "    .dataframe tbody tr th {\n",
              "        vertical-align: top;\n",
              "    }\n",
              "\n",
              "    .dataframe thead th {\n",
              "        text-align: right;\n",
              "    }\n",
              "</style>\n",
              "<table border=\"1\" class=\"dataframe\">\n",
              "  <thead>\n",
              "    <tr style=\"text-align: right;\">\n",
              "      <th></th>\n",
              "      <th>content</th>\n",
              "    </tr>\n",
              "  </thead>\n",
              "  <tbody>\n",
              "    <tr>\n",
              "      <th>2623</th>\n",
              "      <td>I have not found a XXXX XXXX for Credit Accept...</td>\n",
              "    </tr>\n",
              "    <tr>\n",
              "      <th>9674</th>\n",
              "      <td>In XX/XX/XXXX I took a loan to buy a vehicle a...</td>\n",
              "    </tr>\n",
              "    <tr>\n",
              "      <th>11813</th>\n",
              "      <td>XXXX XXXX XXXX XXXX promised transportation an...</td>\n",
              "    </tr>\n",
              "  </tbody>\n",
              "</table>\n",
              "</div>\n",
              "    <div class=\"colab-df-buttons\">\n",
              "\n",
              "  <div class=\"colab-df-container\">\n",
              "    <button class=\"colab-df-convert\" onclick=\"convertToInteractive('df-1d49d5b0-f29f-4497-b263-c11df3b6488b')\"\n",
              "            title=\"Convert this dataframe to an interactive table.\"\n",
              "            style=\"display:none;\">\n",
              "\n",
              "  <svg xmlns=\"http://www.w3.org/2000/svg\" height=\"24px\" viewBox=\"0 -960 960 960\">\n",
              "    <path d=\"M120-120v-720h720v720H120Zm60-500h600v-160H180v160Zm220 220h160v-160H400v160Zm0 220h160v-160H400v160ZM180-400h160v-160H180v160Zm440 0h160v-160H620v160ZM180-180h160v-160H180v160Zm440 0h160v-160H620v160Z\"/>\n",
              "  </svg>\n",
              "    </button>\n",
              "\n",
              "  <style>\n",
              "    .colab-df-container {\n",
              "      display:flex;\n",
              "      gap: 12px;\n",
              "    }\n",
              "\n",
              "    .colab-df-convert {\n",
              "      background-color: #E8F0FE;\n",
              "      border: none;\n",
              "      border-radius: 50%;\n",
              "      cursor: pointer;\n",
              "      display: none;\n",
              "      fill: #1967D2;\n",
              "      height: 32px;\n",
              "      padding: 0 0 0 0;\n",
              "      width: 32px;\n",
              "    }\n",
              "\n",
              "    .colab-df-convert:hover {\n",
              "      background-color: #E2EBFA;\n",
              "      box-shadow: 0px 1px 2px rgba(60, 64, 67, 0.3), 0px 1px 3px 1px rgba(60, 64, 67, 0.15);\n",
              "      fill: #174EA6;\n",
              "    }\n",
              "\n",
              "    .colab-df-buttons div {\n",
              "      margin-bottom: 4px;\n",
              "    }\n",
              "\n",
              "    [theme=dark] .colab-df-convert {\n",
              "      background-color: #3B4455;\n",
              "      fill: #D2E3FC;\n",
              "    }\n",
              "\n",
              "    [theme=dark] .colab-df-convert:hover {\n",
              "      background-color: #434B5C;\n",
              "      box-shadow: 0px 1px 3px 1px rgba(0, 0, 0, 0.15);\n",
              "      filter: drop-shadow(0px 1px 2px rgba(0, 0, 0, 0.3));\n",
              "      fill: #FFFFFF;\n",
              "    }\n",
              "  </style>\n",
              "\n",
              "    <script>\n",
              "      const buttonEl =\n",
              "        document.querySelector('#df-1d49d5b0-f29f-4497-b263-c11df3b6488b button.colab-df-convert');\n",
              "      buttonEl.style.display =\n",
              "        google.colab.kernel.accessAllowed ? 'block' : 'none';\n",
              "\n",
              "      async function convertToInteractive(key) {\n",
              "        const element = document.querySelector('#df-1d49d5b0-f29f-4497-b263-c11df3b6488b');\n",
              "        const dataTable =\n",
              "          await google.colab.kernel.invokeFunction('convertToInteractive',\n",
              "                                                    [key], {});\n",
              "        if (!dataTable) return;\n",
              "\n",
              "        const docLinkHtml = 'Like what you see? Visit the ' +\n",
              "          '<a target=\"_blank\" href=https://colab.research.google.com/notebooks/data_table.ipynb>data table notebook</a>'\n",
              "          + ' to learn more about interactive tables.';\n",
              "        element.innerHTML = '';\n",
              "        dataTable['output_type'] = 'display_data';\n",
              "        await google.colab.output.renderOutput(dataTable, element);\n",
              "        const docLink = document.createElement('div');\n",
              "        docLink.innerHTML = docLinkHtml;\n",
              "        element.appendChild(docLink);\n",
              "      }\n",
              "    </script>\n",
              "  </div>\n",
              "\n",
              "\n",
              "<div id=\"df-157f4c6d-460c-42a4-9d96-d3462a7bcf6d\">\n",
              "  <button class=\"colab-df-quickchart\" onclick=\"quickchart('df-157f4c6d-460c-42a4-9d96-d3462a7bcf6d')\"\n",
              "            title=\"Suggest charts\"\n",
              "            style=\"display:none;\">\n",
              "\n",
              "<svg xmlns=\"http://www.w3.org/2000/svg\" height=\"24px\"viewBox=\"0 0 24 24\"\n",
              "     width=\"24px\">\n",
              "    <g>\n",
              "        <path d=\"M19 3H5c-1.1 0-2 .9-2 2v14c0 1.1.9 2 2 2h14c1.1 0 2-.9 2-2V5c0-1.1-.9-2-2-2zM9 17H7v-7h2v7zm4 0h-2V7h2v10zm4 0h-2v-4h2v4z\"/>\n",
              "    </g>\n",
              "</svg>\n",
              "  </button>\n",
              "\n",
              "<style>\n",
              "  .colab-df-quickchart {\n",
              "      --bg-color: #E8F0FE;\n",
              "      --fill-color: #1967D2;\n",
              "      --hover-bg-color: #E2EBFA;\n",
              "      --hover-fill-color: #174EA6;\n",
              "      --disabled-fill-color: #AAA;\n",
              "      --disabled-bg-color: #DDD;\n",
              "  }\n",
              "\n",
              "  [theme=dark] .colab-df-quickchart {\n",
              "      --bg-color: #3B4455;\n",
              "      --fill-color: #D2E3FC;\n",
              "      --hover-bg-color: #434B5C;\n",
              "      --hover-fill-color: #FFFFFF;\n",
              "      --disabled-bg-color: #3B4455;\n",
              "      --disabled-fill-color: #666;\n",
              "  }\n",
              "\n",
              "  .colab-df-quickchart {\n",
              "    background-color: var(--bg-color);\n",
              "    border: none;\n",
              "    border-radius: 50%;\n",
              "    cursor: pointer;\n",
              "    display: none;\n",
              "    fill: var(--fill-color);\n",
              "    height: 32px;\n",
              "    padding: 0;\n",
              "    width: 32px;\n",
              "  }\n",
              "\n",
              "  .colab-df-quickchart:hover {\n",
              "    background-color: var(--hover-bg-color);\n",
              "    box-shadow: 0 1px 2px rgba(60, 64, 67, 0.3), 0 1px 3px 1px rgba(60, 64, 67, 0.15);\n",
              "    fill: var(--button-hover-fill-color);\n",
              "  }\n",
              "\n",
              "  .colab-df-quickchart-complete:disabled,\n",
              "  .colab-df-quickchart-complete:disabled:hover {\n",
              "    background-color: var(--disabled-bg-color);\n",
              "    fill: var(--disabled-fill-color);\n",
              "    box-shadow: none;\n",
              "  }\n",
              "\n",
              "  .colab-df-spinner {\n",
              "    border: 2px solid var(--fill-color);\n",
              "    border-color: transparent;\n",
              "    border-bottom-color: var(--fill-color);\n",
              "    animation:\n",
              "      spin 1s steps(1) infinite;\n",
              "  }\n",
              "\n",
              "  @keyframes spin {\n",
              "    0% {\n",
              "      border-color: transparent;\n",
              "      border-bottom-color: var(--fill-color);\n",
              "      border-left-color: var(--fill-color);\n",
              "    }\n",
              "    20% {\n",
              "      border-color: transparent;\n",
              "      border-left-color: var(--fill-color);\n",
              "      border-top-color: var(--fill-color);\n",
              "    }\n",
              "    30% {\n",
              "      border-color: transparent;\n",
              "      border-left-color: var(--fill-color);\n",
              "      border-top-color: var(--fill-color);\n",
              "      border-right-color: var(--fill-color);\n",
              "    }\n",
              "    40% {\n",
              "      border-color: transparent;\n",
              "      border-right-color: var(--fill-color);\n",
              "      border-top-color: var(--fill-color);\n",
              "    }\n",
              "    60% {\n",
              "      border-color: transparent;\n",
              "      border-right-color: var(--fill-color);\n",
              "    }\n",
              "    80% {\n",
              "      border-color: transparent;\n",
              "      border-right-color: var(--fill-color);\n",
              "      border-bottom-color: var(--fill-color);\n",
              "    }\n",
              "    90% {\n",
              "      border-color: transparent;\n",
              "      border-bottom-color: var(--fill-color);\n",
              "    }\n",
              "  }\n",
              "</style>\n",
              "\n",
              "  <script>\n",
              "    async function quickchart(key) {\n",
              "      const quickchartButtonEl =\n",
              "        document.querySelector('#' + key + ' button');\n",
              "      quickchartButtonEl.disabled = true;  // To prevent multiple clicks.\n",
              "      quickchartButtonEl.classList.add('colab-df-spinner');\n",
              "      try {\n",
              "        const charts = await google.colab.kernel.invokeFunction(\n",
              "            'suggestCharts', [key], {});\n",
              "      } catch (error) {\n",
              "        console.error('Error during call to suggestCharts:', error);\n",
              "      }\n",
              "      quickchartButtonEl.classList.remove('colab-df-spinner');\n",
              "      quickchartButtonEl.classList.add('colab-df-quickchart-complete');\n",
              "    }\n",
              "    (() => {\n",
              "      let quickchartButtonEl =\n",
              "        document.querySelector('#df-157f4c6d-460c-42a4-9d96-d3462a7bcf6d button');\n",
              "      quickchartButtonEl.style.display =\n",
              "        google.colab.kernel.accessAllowed ? 'block' : 'none';\n",
              "    })();\n",
              "  </script>\n",
              "</div>\n",
              "    </div>\n",
              "  </div>\n"
            ]
          },
          "metadata": {},
          "execution_count": 26
        }
      ]
    },
    {
      "cell_type": "markdown",
      "source": [
        "##Przykłady skarg dla klastrów 1 i 2.\n",
        "\n",
        "`cluster_1_result_pandas[\"content\"].iloc[i]`: Ten fragment kodu używa metody `iloc` do indeksowania danych w kolumnie \"content\" ramki danych cluster_1_result_pandas. Parametr i oznacza indeks wiersza, który chcemy pobrać."
      ],
      "metadata": {
        "id": "F3qt3815DNWO"
      }
    },
    {
      "cell_type": "code",
      "source": [
        "prompt1 = 'comment list 1:\\n'\n",
        "for i in range(5):\n",
        "    prompt1 += str(i + 1) + '. ' + cluster_1_result_pandas[\"content\"].iloc[i] + '\\n'\n",
        "\n",
        "print(prompt1)"
      ],
      "metadata": {
        "colab": {
          "base_uri": "https://localhost:8080/"
        },
        "id": "SjU5tu_pBcT2",
        "outputId": "0d929e69-24e7-4fbe-947a-884216ed4ad0"
      },
      "execution_count": null,
      "outputs": [
        {
          "output_type": "stream",
          "name": "stdout",
          "text": [
            "comment list 1:\n",
            "1. In accordance with the Fair Credit Reporting act XXXX XXXX Account XXXX XXXX XXXX XXXX XXXX XXXX XXXX Account XXXX XXXX has violated my rights. \n",
            "\n",
            "15 U.S.C 1681 section 602 A. States I have the right to privacy.\n",
            "\n",
            "15 U.S.C 1681 Section 604 A Section 2 : It also states a consumer reporting agency can not furnish a account without my written instructions\n",
            "2. The problem that I have is according to 15 Usc 1681A ( XXXX ) There is a need to insure that consumer reporting agencies exercise their grave responsibilities with fairness, impartiality, and a respect for the consumers right to privacy.\n",
            "3. In accordance with The Fair credit reporting act the list of accounts below has violated my Federal protected consumer rights to privacy and confidentiality under 15 USC 1681. \n",
            "\n",
            "XXXX : Account # XXXX XXXXXXXX XXXX XXXX  : Account # XXXX XXXX XXXX : Account # XXXX XXXX XXXX XXXX Account # XXXX XXXX XXXX : Account # XXXX XXXX XXXX XXXX XXXX Account # XXXX XXXX : Account # XXXX XXXX XXXX Co : Account # XXXX has violated my rights. \n",
            "\n",
            "15 U.S.C 1681 section 602 A.States I have the right to privacy 15 U.S.C 1681 section 604-A section 2 : It also States a consumer reporting agency can not furnish a account without my written instructions 15 USC 1681c 856 no consumer reporting agency may make any consumer report containing any of the following items of information any other adverse items of information other than records of a conviction of crime which andates the reports by more than seven years 15 U.S.C 1681s-2 ( A ) ( 1 ) A person shall not furnish any information relating to a consumer to any consumer reporting agency if the person knows or has reasonable cause to believe that the information is inaccurate.\n",
            "4. LUSTIG, Glaser & Wilson P.C FAILED to comply with the Massachusetts Consumer Protection Act. \n",
            "Creditor is in violation of 209 CMR 18:18 ( 1 ), ( 2 ), ( 3 ) Creditor is in violation of 940 CMR 7:07 ( 4 ), ( 8 ), ( 9 ) AND ( 15 ) Creditor is in violation of 940 CMR 7.08 ( 1 ), ( 2 ) If the debtor, or any attorney for the debtor, notifies the creditor in writing within the 30-day period described in 940 CMR 7.08 ( 1 ), that the debt, or any portion thereof, is disputed, the creditor shall cease collection of the debt, or any disputed portion thereof, until the creditor verifies the debt and provides the debtor, or any attorney of the debtor, by first class mail, the following materials : ( a ) All documents, including electronic records or images, which bear the signature of the debtor and which concern the debt being collected ; ( b ) A ledger, account card, account statement copy, or similar record, whether paper or electronic, which reflects the date and amount of payments, credits, balances, and charges concerning the debt, including but not limited to interest, fees, charges or expenses incidental to the principal obligation which the creditor is expressly authorized to collect by the agreement creating the debt or permitted to collect by law ; ( c ) The name and address of the original creditor, if different from the collecting creditor ; and (\n",
            "5. Name. XXXX XXXX XXXX XXXX XXXX XXXX XXXX XXXX XXXX XXXX XXXX XXXXXX/XX/XXXX I received my investigation back and you stated you completed a fair investigation and these accounts are 100 % accurate. \n",
            "But can you please answer this one question. How did you investigate these accounts?\n",
            "\n",
            "Because according to the fair credit reporting act 15 U.S. Code 1681a this is how you supposed to investigative my consumer report Did you interview my neighbors? \n",
            "Did you interview my friends? \n",
            "How did you talk to? \n",
            "One more thing can you please tell me how everything is accurate since these accounts date open, date last active not reporting the same information.\n",
            "\n",
            "How did you talk to?\n",
            "\n",
            "One more thing can you please tell me how everything is 100 % accurate if the date open, date last active on these accounts are not reporting the same Information.\n",
            "\n",
            "You have violated multiple laws below : 15 U.S. Code 1681a 15 U.S. Code 1681 15 U.S. Code 1681i I demand you delete the accounts from my credit report, I listed below : XXXX Account Number : XXXX Please remove it from my credit report XXXX. The following information is incorrect XXXX XXXX XXXX XXXX Account Number : XXXX Please remove it from my credit report. \n",
            "12. The following information is incorrect XXXX XXXX XXXX Account Number : XXXX Please update all late payment, all late payment was made on time 13. The following information is incorrect XXXX XXXX XXXX Account Number : XXXX Please update all late payment, all late payment was made on time 14. Validate Account XXXX XXXX Account XXXX : XXXX Please remove it from my credit report. \n",
            "15. Validate Account XXXX XXXX BANK Account Number : XXXX Please remove it from my credit report. \n",
            "16. Validate Account XXXX XXXX XXXX Account Number : XXXX Please remove it from my credit report. \n",
            "17. Validate Account XXXX XXXX XXXX Account Number : XXXX Please remove it from my credit report. \n",
            "18. Validate Account XXXX XXXX XXXX Account Number : XXXX Please remove it from my credit report. \n",
            "19. Validate Account XXXX XXXX BANK XXXX Account Number : XXXX Please remove it from my credit report. \n",
            "20. Validate Account XXXX XXXX XXXX Account Number : XXXX Please remove it from my credit report. \n",
            "21. The following information is incorrect XXXX XXXX XXXX Account Number : XXXX Please update all late payment, all late payment was made on time 22. Validate Account XXXX XXXX XXXX  Account Number : XXXX Please remove it from my credit report. \n",
            "23. Validate Account XXXX Account XXXX : XXXX\n",
            "\n"
          ]
        }
      ]
    },
    {
      "cell_type": "markdown",
      "source": [
        "#LLM (text-bison foundation model)"
      ],
      "metadata": {
        "id": "ZZq6Cmv7JL8V"
      }
    },
    {
      "cell_type": "markdown",
      "source": [
        "##Prep dla promptu"
      ],
      "metadata": {
        "id": "dWlCWsOiIodo"
      }
    },
    {
      "cell_type": "code",
      "source": [
        "prompt2 = 'comment list 2:\\n'\n",
        "for i in range(5):\n",
        "    prompt2 += str(i + 1) + '. ' + cluster_2_result_pandas[\"content\"].iloc[i] + '\\n'\n",
        "\n",
        "print(prompt2)"
      ],
      "metadata": {
        "colab": {
          "base_uri": "https://localhost:8080/"
        },
        "id": "jBHfvmhBBsRO",
        "outputId": "4b87597d-82b4-4b1e-cba3-e24822d97486"
      },
      "execution_count": null,
      "outputs": [
        {
          "output_type": "stream",
          "name": "stdout",
          "text": [
            "comment list 2:\n",
            "1. I have not found a XXXX XXXX for Credit Acceptance nor XXXX XXXX XXXX. \n",
            "\n",
            "XXXX XXXX XXXX XXXX XXXX XXXX XXXX XXXX XXXX XXXX XXXX  requires the licensing and regulation of finance lenders and brokers making and brokering consumer and commercial loans, except as specified ; prohibits misrepresentations, fraudulent and deceptive acts in connection with making and brokering of loans ; and provides administrative, civil ( injunction and ancillary relief ) and criminal remedies for violations of the law. \n",
            "\n",
            "Only active license Credit Acceptance have is out of state non in California state as required by law.\n",
            "2. In XX/XX/XXXX I took a loan to buy a vehicle and in XXXX of the same year I had an accident and the car was lost after talking to the insurance company. I called the company to explain what had happened, at most companies what happens is they pause credit while you get insurance information, but here I didn't call them and they always gave me different information and even if I didn't have my vehicle if I had to make my car payments, in XXXX the company sent a check for the full value of what was owed, because the check had already been sent, so I called the company and told them I didn't want them to make a negative report. I called them on XX/XX/XXXX and what the person told me was that I did not have to pay that the check would arrive that same day and that from that day on I had 10 more days as the deadline for the check to arrive if on that day moment the check did not arrive there if I would have to pay the installments, then on XX/XX/XXXX the check arrived at their facilities and they cashed it the same day but on XX/XX/XXXX what they did was report to us My credit and that of my husband, since we were both in the loan, they affected my credit so much that it dropped more than XXXX points and I already filed a complaint but the answer they gave me has nothing to do with what I asked them what they said is that we spent more time knowing that they themselves told us that we had 10 more days to make the payment and that they were not going to report us and it is in a recorded call on XX/XX/XXXX XXXX\n",
            "3. XXXX XXXX XXXX XXXX promised transportation and housing while I attended school. That never materialized. When I became XXXX   they told me that I could no longer be on XXXX which meant that because of my XXXX I couldn't finish the school no matter if I tried because I wasn't allowed on the XXXX because of insurance. Now they are reporting the payments as in collection when made arrangements to pay the payments. \n",
            "They have reported the student loans multiple times.\n",
            "4. I received by mail a \" Pre Screened '' offer from Barclays Bank of Delaware to apply for a personal loan between {$5000.00} to {$35000.00} ( if approved ).\n",
            "\n",
            "The following paragraph is what prompted me to inquire about credit rates : \" Checking the rate and terms you may qualify for will not impact your credit information. However, if you submit a completed application to obtain a loan, your credit score and information may be affected. '' The letter very clearly states that the applicant is allowed to check his/hers credit rate and terms, before applying for credit without having an impact to their credit information. Once I filled out the required data to check for the best credit rate for me, I waited for the information requested. Instead I received an instant message on my screen and an email stating that my application for credit was denied.\n",
            "\n",
            "The information I submitted was only to be used the check the credit rate and terms, not to apply for credit. Because of this action my credit score has been negatively impacted and I feel this company was deceitful in the way their website handles consumer 's information.\n",
            "5. I entered into a consumer credit transaction with Carmax Auto XXXX XXXX XXXX XXXX  on XX/XX/2017. A consumer credit transaction in which a finance charge was involved. 15 us 1605 defines a finance charge as the sum of all charges in a consumer credit transaction. The finance charge does not include cash, but Carmax Auto XXXX  XXXX XXXX XXXX took cash in the amount of {$2600.00} as a deposit. The Finance charge is suppose to include insurance, but Carmax Auto XXXX XXXX XXXX XXXX made me purchase insurance separately. My consumer rights were violated.\n",
            "\n"
          ]
        }
      ]
    },
    {
      "cell_type": "code",
      "source": [
        "prompt = (\n",
        "    \"Proszę podkreślić w języku polskim najbardziej oczywistą różnicę pomiędzy \"\n",
        "    \"tymi dwiema listami komentarzy:\\n\" + prompt1 + prompt2\n",
        ")\n",
        "print(prompt)"
      ],
      "metadata": {
        "colab": {
          "base_uri": "https://localhost:8080/"
        },
        "id": "A7dkEsv2C9DD",
        "outputId": "8ee78b19-0e83-4fb7-c654-f6811cc11af5"
      },
      "execution_count": null,
      "outputs": [
        {
          "output_type": "stream",
          "name": "stdout",
          "text": [
            "Proszę podkreślić w języku polskim najbardziej oczywistą różnicę pomiędzy tymi dwiema listami komentarzy:\n",
            "comment list 1:\n",
            "1. In accordance with the Fair Credit Reporting act XXXX XXXX Account XXXX XXXX XXXX XXXX XXXX XXXX XXXX Account XXXX XXXX has violated my rights. \n",
            "\n",
            "15 U.S.C 1681 section 602 A. States I have the right to privacy.\n",
            "\n",
            "15 U.S.C 1681 Section 604 A Section 2 : It also states a consumer reporting agency can not furnish a account without my written instructions\n",
            "2. The problem that I have is according to 15 Usc 1681A ( XXXX ) There is a need to insure that consumer reporting agencies exercise their grave responsibilities with fairness, impartiality, and a respect for the consumers right to privacy.\n",
            "3. In accordance with The Fair credit reporting act the list of accounts below has violated my Federal protected consumer rights to privacy and confidentiality under 15 USC 1681. \n",
            "\n",
            "XXXX : Account # XXXX XXXXXXXX XXXX XXXX  : Account # XXXX XXXX XXXX : Account # XXXX XXXX XXXX XXXX Account # XXXX XXXX XXXX : Account # XXXX XXXX XXXX XXXX XXXX Account # XXXX XXXX : Account # XXXX XXXX XXXX Co : Account # XXXX has violated my rights. \n",
            "\n",
            "15 U.S.C 1681 section 602 A.States I have the right to privacy 15 U.S.C 1681 section 604-A section 2 : It also States a consumer reporting agency can not furnish a account without my written instructions 15 USC 1681c 856 no consumer reporting agency may make any consumer report containing any of the following items of information any other adverse items of information other than records of a conviction of crime which andates the reports by more than seven years 15 U.S.C 1681s-2 ( A ) ( 1 ) A person shall not furnish any information relating to a consumer to any consumer reporting agency if the person knows or has reasonable cause to believe that the information is inaccurate.\n",
            "4. LUSTIG, Glaser & Wilson P.C FAILED to comply with the Massachusetts Consumer Protection Act. \n",
            "Creditor is in violation of 209 CMR 18:18 ( 1 ), ( 2 ), ( 3 ) Creditor is in violation of 940 CMR 7:07 ( 4 ), ( 8 ), ( 9 ) AND ( 15 ) Creditor is in violation of 940 CMR 7.08 ( 1 ), ( 2 ) If the debtor, or any attorney for the debtor, notifies the creditor in writing within the 30-day period described in 940 CMR 7.08 ( 1 ), that the debt, or any portion thereof, is disputed, the creditor shall cease collection of the debt, or any disputed portion thereof, until the creditor verifies the debt and provides the debtor, or any attorney of the debtor, by first class mail, the following materials : ( a ) All documents, including electronic records or images, which bear the signature of the debtor and which concern the debt being collected ; ( b ) A ledger, account card, account statement copy, or similar record, whether paper or electronic, which reflects the date and amount of payments, credits, balances, and charges concerning the debt, including but not limited to interest, fees, charges or expenses incidental to the principal obligation which the creditor is expressly authorized to collect by the agreement creating the debt or permitted to collect by law ; ( c ) The name and address of the original creditor, if different from the collecting creditor ; and (\n",
            "5. Name. XXXX XXXX XXXX XXXX XXXX XXXX XXXX XXXX XXXX XXXX XXXX XXXXXX/XX/XXXX I received my investigation back and you stated you completed a fair investigation and these accounts are 100 % accurate. \n",
            "But can you please answer this one question. How did you investigate these accounts?\n",
            "\n",
            "Because according to the fair credit reporting act 15 U.S. Code 1681a this is how you supposed to investigative my consumer report Did you interview my neighbors? \n",
            "Did you interview my friends? \n",
            "How did you talk to? \n",
            "One more thing can you please tell me how everything is accurate since these accounts date open, date last active not reporting the same information.\n",
            "\n",
            "How did you talk to?\n",
            "\n",
            "One more thing can you please tell me how everything is 100 % accurate if the date open, date last active on these accounts are not reporting the same Information.\n",
            "\n",
            "You have violated multiple laws below : 15 U.S. Code 1681a 15 U.S. Code 1681 15 U.S. Code 1681i I demand you delete the accounts from my credit report, I listed below : XXXX Account Number : XXXX Please remove it from my credit report XXXX. The following information is incorrect XXXX XXXX XXXX XXXX Account Number : XXXX Please remove it from my credit report. \n",
            "12. The following information is incorrect XXXX XXXX XXXX Account Number : XXXX Please update all late payment, all late payment was made on time 13. The following information is incorrect XXXX XXXX XXXX Account Number : XXXX Please update all late payment, all late payment was made on time 14. Validate Account XXXX XXXX Account XXXX : XXXX Please remove it from my credit report. \n",
            "15. Validate Account XXXX XXXX BANK Account Number : XXXX Please remove it from my credit report. \n",
            "16. Validate Account XXXX XXXX XXXX Account Number : XXXX Please remove it from my credit report. \n",
            "17. Validate Account XXXX XXXX XXXX Account Number : XXXX Please remove it from my credit report. \n",
            "18. Validate Account XXXX XXXX XXXX Account Number : XXXX Please remove it from my credit report. \n",
            "19. Validate Account XXXX XXXX BANK XXXX Account Number : XXXX Please remove it from my credit report. \n",
            "20. Validate Account XXXX XXXX XXXX Account Number : XXXX Please remove it from my credit report. \n",
            "21. The following information is incorrect XXXX XXXX XXXX Account Number : XXXX Please update all late payment, all late payment was made on time 22. Validate Account XXXX XXXX XXXX  Account Number : XXXX Please remove it from my credit report. \n",
            "23. Validate Account XXXX Account XXXX : XXXX\n",
            "comment list 2:\n",
            "1. I have not found a XXXX XXXX for Credit Acceptance nor XXXX XXXX XXXX. \n",
            "\n",
            "XXXX XXXX XXXX XXXX XXXX XXXX XXXX XXXX XXXX XXXX XXXX  requires the licensing and regulation of finance lenders and brokers making and brokering consumer and commercial loans, except as specified ; prohibits misrepresentations, fraudulent and deceptive acts in connection with making and brokering of loans ; and provides administrative, civil ( injunction and ancillary relief ) and criminal remedies for violations of the law. \n",
            "\n",
            "Only active license Credit Acceptance have is out of state non in California state as required by law.\n",
            "2. In XX/XX/XXXX I took a loan to buy a vehicle and in XXXX of the same year I had an accident and the car was lost after talking to the insurance company. I called the company to explain what had happened, at most companies what happens is they pause credit while you get insurance information, but here I didn't call them and they always gave me different information and even if I didn't have my vehicle if I had to make my car payments, in XXXX the company sent a check for the full value of what was owed, because the check had already been sent, so I called the company and told them I didn't want them to make a negative report. I called them on XX/XX/XXXX and what the person told me was that I did not have to pay that the check would arrive that same day and that from that day on I had 10 more days as the deadline for the check to arrive if on that day moment the check did not arrive there if I would have to pay the installments, then on XX/XX/XXXX the check arrived at their facilities and they cashed it the same day but on XX/XX/XXXX what they did was report to us My credit and that of my husband, since we were both in the loan, they affected my credit so much that it dropped more than XXXX points and I already filed a complaint but the answer they gave me has nothing to do with what I asked them what they said is that we spent more time knowing that they themselves told us that we had 10 more days to make the payment and that they were not going to report us and it is in a recorded call on XX/XX/XXXX XXXX\n",
            "3. XXXX XXXX XXXX XXXX promised transportation and housing while I attended school. That never materialized. When I became XXXX   they told me that I could no longer be on XXXX which meant that because of my XXXX I couldn't finish the school no matter if I tried because I wasn't allowed on the XXXX because of insurance. Now they are reporting the payments as in collection when made arrangements to pay the payments. \n",
            "They have reported the student loans multiple times.\n",
            "4. I received by mail a \" Pre Screened '' offer from Barclays Bank of Delaware to apply for a personal loan between {$5000.00} to {$35000.00} ( if approved ).\n",
            "\n",
            "The following paragraph is what prompted me to inquire about credit rates : \" Checking the rate and terms you may qualify for will not impact your credit information. However, if you submit a completed application to obtain a loan, your credit score and information may be affected. '' The letter very clearly states that the applicant is allowed to check his/hers credit rate and terms, before applying for credit without having an impact to their credit information. Once I filled out the required data to check for the best credit rate for me, I waited for the information requested. Instead I received an instant message on my screen and an email stating that my application for credit was denied.\n",
            "\n",
            "The information I submitted was only to be used the check the credit rate and terms, not to apply for credit. Because of this action my credit score has been negatively impacted and I feel this company was deceitful in the way their website handles consumer 's information.\n",
            "5. I entered into a consumer credit transaction with Carmax Auto XXXX XXXX XXXX XXXX  on XX/XX/2017. A consumer credit transaction in which a finance charge was involved. 15 us 1605 defines a finance charge as the sum of all charges in a consumer credit transaction. The finance charge does not include cash, but Carmax Auto XXXX  XXXX XXXX XXXX took cash in the amount of {$2600.00} as a deposit. The Finance charge is suppose to include insurance, but Carmax Auto XXXX XXXX XXXX XXXX made me purchase insurance separately. My consumer rights were violated.\n",
            "\n"
          ]
        }
      ]
    },
    {
      "cell_type": "code",
      "source": [
        "from bigframes.ml.llm import PaLM2TextGenerator\n",
        "\n",
        "q_a_model = PaLM2TextGenerator()"
      ],
      "metadata": {
        "colab": {
          "base_uri": "https://localhost:8080/",
          "height": 34
        },
        "id": "CVHD-ijVE7Bc",
        "outputId": "70b4a89c-721a-4bb1-cdcc-46180a4108d1"
      },
      "execution_count": null,
      "outputs": [
        {
          "output_type": "display_data",
          "data": {
            "text/plain": [
              "<IPython.core.display.HTML object>"
            ],
            "text/html": [
              "Query job b6e8009e-772e-4ba0-9d4c-97996613bdba is DONE. 0 Bytes processed. <a target=\"_blank\" href=\"https://console.cloud.google.com/bigquery?project=empik-ga360&j=bq:US:b6e8009e-772e-4ba0-9d4c-97996613bdba&page=queryresults\">Open Job</a>"
            ]
          },
          "metadata": {}
        }
      ]
    },
    {
      "cell_type": "code",
      "source": [
        "df = bf.DataFrame({\"prompt\": [prompt]})"
      ],
      "metadata": {
        "id": "2J04G6AuFFDY"
      },
      "execution_count": null,
      "outputs": []
    },
    {
      "cell_type": "code",
      "source": [
        "major_difference = q_a_model.predict(df)\n",
        "\n",
        "major_difference[\"ml_generate_text_llm_result\"].iloc[0]"
      ],
      "metadata": {
        "colab": {
          "base_uri": "https://localhost:8080/",
          "height": 191
        },
        "id": "lo3bMcEWFfgu",
        "outputId": "901708b4-2f57-4cbb-9001-88240a70f248"
      },
      "execution_count": null,
      "outputs": [
        {
          "output_type": "display_data",
          "data": {
            "text/plain": [
              "<IPython.core.display.HTML object>"
            ],
            "text/html": [
              "Query job a5bd1cef-8bd7-4756-8691-2b774050e84e is DONE. 0 Bytes processed. <a target=\"_blank\" href=\"https://console.cloud.google.com/bigquery?project=empik-ga360&j=bq:US:a5bd1cef-8bd7-4756-8691-2b774050e84e&page=queryresults\">Open Job</a>"
            ]
          },
          "metadata": {}
        },
        {
          "output_type": "display_data",
          "data": {
            "text/plain": [
              "<IPython.core.display.HTML object>"
            ],
            "text/html": [
              "Query job 489b85c4-b212-4f0a-8d7d-0dd2dcd60d61 is DONE. 8 Bytes processed. <a target=\"_blank\" href=\"https://console.cloud.google.com/bigquery?project=empik-ga360&j=bq:US:489b85c4-b212-4f0a-8d7d-0dd2dcd60d61&page=queryresults\">Open Job</a>"
            ]
          },
          "metadata": {}
        },
        {
          "output_type": "display_data",
          "data": {
            "text/plain": [
              "<IPython.core.display.HTML object>"
            ],
            "text/html": [
              "Query job 5110f5fb-8efc-49b4-95c5-fe8c39438009 is DONE. 2 Bytes processed. <a target=\"_blank\" href=\"https://console.cloud.google.com/bigquery?project=empik-ga360&j=bq:US:5110f5fb-8efc-49b4-95c5-fe8c39438009&page=queryresults\">Open Job</a>"
            ]
          },
          "metadata": {}
        },
        {
          "output_type": "display_data",
          "data": {
            "text/plain": [
              "<IPython.core.display.HTML object>"
            ],
            "text/html": [
              "Query job 0fa3aa0d-8fc9-4028-8edb-4ab5e8d312ef is DONE. 506 Bytes processed. <a target=\"_blank\" href=\"https://console.cloud.google.com/bigquery?project=empik-ga360&j=bq:US:0fa3aa0d-8fc9-4028-8edb-4ab5e8d312ef&page=queryresults\">Open Job</a>"
            ]
          },
          "metadata": {}
        },
        {
          "output_type": "execute_result",
          "data": {
            "text/plain": [
              "' **Lista 1:**\\n\\n* **Komentarze są bardzo szczegółowe i odnoszą się do konkretnych przepisów prawnych.**\\n* **Komentarze są napisane w języku prawniczym i zawierają wiele cytatów z przepisów prawnych.**\\n* **Komentarze są bardzo długie i trudne do zrozumienia dla osób, które nie mają wykształcenia prawniczego.**\\n\\n**Lista 2:**\\n\\n* **Komentarze są bardziej ogólne i nie odnoszą się do konkretnych przepisów prawnych.**\\n* **Komentarze są napisane w języku potocznym i są łatwe'"
            ],
            "application/vnd.google.colaboratory.intrinsic+json": {
              "type": "string"
            }
          },
          "metadata": {},
          "execution_count": 50
        }
      ]
    },
    {
      "cell_type": "markdown",
      "source": [
        "#Wyniki"
      ],
      "metadata": {
        "id": "nRHXbtH_JnKO"
      }
    },
    {
      "cell_type": "markdown",
      "source": [
        " **Lista 1:**\n",
        "\n",
        "* **Komentarze są bardzo szczegółowe i odnoszą się do konkretnych przepisów prawnych.**\n",
        "* **Komentarze są napisane w języku prawniczym i zawierają wiele cytatów z przepisów prawnych.**\n",
        "* **Komentarze są bardzo długie i trudne do zrozumienia dla osób, które nie mają wykształcenia prawniczego.**\n",
        "\n",
        "**Lista 2:**\n",
        "\n",
        "* **Komentarze są bardziej ogólne i nie odnoszą się do konkretnych przepisów prawnych.**\n",
        "* **Komentarze są napisane w języku potocznym i są łatwe**"
      ],
      "metadata": {
        "id": "yDQw75t8G4wx"
      }
    }
  ]
}